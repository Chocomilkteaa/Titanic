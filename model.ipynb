{
 "cells": [
  {
   "cell_type": "markdown",
   "metadata": {},
   "source": [
    "# Import packages and Settings"
   ]
  },
  {
   "cell_type": "code",
   "execution_count": 1,
   "metadata": {},
   "outputs": [],
   "source": [
    "import pandas as pd\n",
    "\n",
    "import matplotlib.pyplot as plt\n",
    "\n",
    "from xgboost.sklearn import XGBClassifier\n",
    "\n",
    "from catboost import CatBoostClassifier\n",
    "\n",
    "%matplotlib inline"
   ]
  },
  {
   "cell_type": "code",
   "execution_count": 2,
   "metadata": {},
   "outputs": [
    {
     "name": "stderr",
     "output_type": "stream",
     "text": [
      "Intel(R) Extension for Scikit-learn* enabled (https://github.com/intel/scikit-learn-intelex)\n"
     ]
    }
   ],
   "source": [
    "from sklearn.base import clone\n",
    "from sklearn.preprocessing import OneHotEncoder\n",
    "from sklearn.tree import DecisionTreeClassifier\n",
    "from sklearn.ensemble import RandomForestClassifier, GradientBoostingClassifier\n",
    "from sklearn.model_selection import ShuffleSplit, cross_val_score, GridSearchCV\n",
    "from sklearn.metrics import accuracy_score\n",
    "\n",
    "from sklearnex import patch_sklearn\n",
    "\n",
    "patch_sklearn()"
   ]
  },
  {
   "cell_type": "code",
   "execution_count": 3,
   "metadata": {},
   "outputs": [],
   "source": [
    "train_data = pd.read_csv('./Data/train.csv')\n",
    "test_data = pd.read_csv('./Data/test.csv')\n",
    "\n",
    "train_data['Sex'] = train_data['Sex'].map({'male':0, 'female':1})\n",
    "test_data['Sex'] = test_data['Sex'].map({'male':0, 'female':1})\n",
    "\n",
    "label = 'Survived'\n",
    "\n",
    "id = test_data['PassengerId']"
   ]
  },
  {
   "cell_type": "code",
   "execution_count": 4,
   "metadata": {},
   "outputs": [],
   "source": [
    "models = [\n",
    "    DecisionTreeClassifier(random_state=0),\n",
    "    RandomForestClassifier(random_state=0),\n",
    "    GradientBoostingClassifier(random_state=0),\n",
    "    XGBClassifier(random_state=0),\n",
    "    CatBoostClassifier(random_state=0, verbose=0, allow_writing_files=False)\n",
    "]"
   ]
  },
  {
   "cell_type": "markdown",
   "metadata": {},
   "source": [
    "# Functions"
   ]
  },
  {
   "cell_type": "code",
   "execution_count": 5,
   "metadata": {},
   "outputs": [],
   "source": [
    "def makeOneHot(column, train_data, test_data):\n",
    "    train_data_new = train_data.copy()\n",
    "    test_data_new = test_data.copy()\n",
    "\n",
    "    encoder_onehot = OneHotEncoder(sparse_output=False)\n",
    "\n",
    "    train_data_onehot = encoder_onehot.fit_transform(pd.DataFrame(train_data[column]))\n",
    "    train_feature_name_onehot = encoder_onehot.get_feature_names_out()\n",
    "    train_data_onehot = pd.DataFrame(train_data_onehot, columns=train_feature_name_onehot, dtype=int)\n",
    "\n",
    "    test_data_onehot = encoder_onehot.transform(pd.DataFrame(test_data[column]))\n",
    "    test_data_onehot = pd.DataFrame(test_data_onehot, columns=train_feature_name_onehot, dtype=int)\n",
    "\n",
    "    train_data_new = pd.concat([train_data_new, train_data_onehot], axis=1)\n",
    "    test_data_new = pd.concat([test_data_new, test_data_onehot], axis=1)\n",
    "\n",
    "    train_data_new = train_data_new.drop(column, axis=1)\n",
    "    test_data_new = test_data_new.drop(column, axis=1)\n",
    "\n",
    "    return train_data_new, test_data_new"
   ]
  },
  {
   "cell_type": "code",
   "execution_count": 6,
   "metadata": {},
   "outputs": [],
   "source": [
    "def prepareData(columns_to_drop, label, train_data, test_data):\n",
    "    X_train = train_data.drop([label] + columns_to_drop + ['PassengerId', 'Name', 'Ticket', 'Cabin'], axis=1)\n",
    "    Y_train = train_data[label]\n",
    "    X_test = test_data.drop(columns_to_drop + ['PassengerId', 'Name', 'Ticket', 'Cabin'], axis=1)\n",
    "    return X_train, Y_train, X_test"
   ]
  },
  {
   "cell_type": "code",
   "execution_count": 7,
   "metadata": {},
   "outputs": [],
   "source": [
    "def evaluation(models, X_train, Y_train):\n",
    "    model_names = [model.__class__.__name__ for model in models]\n",
    "    model_scores = []\n",
    "\n",
    "    cv = ShuffleSplit(random_state=0)\n",
    "\n",
    "    for model in models:\n",
    "        model = clone(model)\n",
    "        cv_scores = cross_val_score(model, X_train, Y_train, cv=cv)\n",
    "        model_scores.append(cv_scores.mean())\n",
    "\n",
    "    cv_results = pd.DataFrame(columns=['name', 'accuracy_mean'])\n",
    "    cv_results['name'] = model_names\n",
    "    cv_results['accuracy_mean'] = model_scores\n",
    "\n",
    "    return cv_results"
   ]
  },
  {
   "cell_type": "code",
   "execution_count": 8,
   "metadata": {},
   "outputs": [],
   "source": [
    "def tuneParameters(model, params, X_train, Y_train):\n",
    "    cv = ShuffleSplit(random_state=0)\n",
    "\n",
    "    tune_model = GridSearchCV(model, param_grid=params, scoring='accuracy', cv=cv)\n",
    "    tune_model.fit(X_train, Y_train)\n",
    "\n",
    "    return tune_model.best_params_, tune_model.best_score_"
   ]
  },
  {
   "cell_type": "code",
   "execution_count": 9,
   "metadata": {},
   "outputs": [],
   "source": [
    "def predict(model, X_train, Y_train, X_test, id, file_name = 'result.csv'):\n",
    "    model.fit(X_train, Y_train)\n",
    "    predictions = model.predict(X_test)\n",
    "\n",
    "    result = pd.DataFrame({\n",
    "        'PassengerId': id,\n",
    "        'Survived': predictions\n",
    "    })\n",
    "    result.to_csv('./Result/' + file_name, index=False)"
   ]
  },
  {
   "cell_type": "markdown",
   "metadata": {},
   "source": [
    "# Base Model"
   ]
  },
  {
   "cell_type": "code",
   "execution_count": 10,
   "metadata": {},
   "outputs": [],
   "source": [
    "columns_to_drop = ['Age', 'Fare', 'Embarked']\n",
    "X_train, Y_train, X_test = prepareData(columns_to_drop, label, train_data, test_data)"
   ]
  },
  {
   "cell_type": "code",
   "execution_count": 32,
   "metadata": {},
   "outputs": [
    {
     "name": "stdout",
     "output_type": "stream",
     "text": [
      "                         name  accuracy_mean\n",
      "0      DecisionTreeClassifier       0.795556\n",
      "1      RandomForestClassifier       0.796667\n",
      "2  GradientBoostingClassifier       0.813333\n",
      "3               XGBClassifier       0.800000\n",
      "4          CatBoostClassifier       0.810000\n"
     ]
    }
   ],
   "source": [
    "cv_results = evaluation(models, X_train, Y_train)\n",
    "print(cv_results)"
   ]
  },
  {
   "cell_type": "code",
   "execution_count": 15,
   "metadata": {},
   "outputs": [
    {
     "name": "stdout",
     "output_type": "stream",
     "text": [
      "{'criterion': 'gini', 'max_depth': 4} 0.8111111111111112\n"
     ]
    }
   ],
   "source": [
    "model = DecisionTreeClassifier(random_state=0)\n",
    "params = {\n",
    "    'criterion': ['gini', 'entropy'],\n",
    "    'max_depth': [2, 4, 6, None]}\n",
    "params, score = tuneParameters(model, params, X_train, Y_train)\n",
    "print(params, score)"
   ]
  },
  {
   "cell_type": "code",
   "execution_count": 37,
   "metadata": {},
   "outputs": [
    {
     "name": "stdout",
     "output_type": "stream",
     "text": [
      "{'max_depth': 2, 'n_estimators': 500} 0.8233333333333335\n"
     ]
    }
   ],
   "source": [
    "model = RandomForestClassifier(random_state=0)\n",
    "params = {\n",
    "    'n_estimators': [100, 300, 500],\n",
    "    'max_depth': [2, 4, 6, 8, 10, None]\n",
    "}\n",
    "params, score = tuneParameters(model, params, X_train, Y_train)\n",
    "print(params, score)"
   ]
  },
  {
   "cell_type": "code",
   "execution_count": 53,
   "metadata": {},
   "outputs": [
    {
     "name": "stdout",
     "output_type": "stream",
     "text": [
      "{'learning_rate': 0.05, 'max_depth': 2, 'n_estimators': 100} 0.8222222222222223\n"
     ]
    }
   ],
   "source": [
    "model = GradientBoostingClassifier(random_state=0)\n",
    "params = {\n",
    "    'learning_rate': [0.1, 0.05, 0.01],\n",
    "    'n_estimators': [100, 300, 500],\n",
    "    'max_depth': [2, 4, 6, 8, 10, None]\n",
    "}\n",
    "params, score = tuneParameters(model, params, X_train, Y_train)\n",
    "print(params, score)"
   ]
  },
  {
   "cell_type": "code",
   "execution_count": 34,
   "metadata": {},
   "outputs": [
    {
     "name": "stdout",
     "output_type": "stream",
     "text": [
      "{'learning_rate': 0.05, 'max_depth': 2, 'n_estimators': 100} 0.8233333333333335\n"
     ]
    }
   ],
   "source": [
    "model = XGBClassifier(random_state=0)\n",
    "params = {\n",
    "    'learning_rate': [0.1, 0.05, 0.01],\n",
    "    'n_estimators': [100, 300],\n",
    "    'max_depth': [2, 4, 6, 8, 10, None]\n",
    "}\n",
    "params, score = tuneParameters(model, params, X_train, Y_train)\n",
    "print(params, score)"
   ]
  },
  {
   "cell_type": "code",
   "execution_count": 11,
   "metadata": {},
   "outputs": [
    {
     "name": "stdout",
     "output_type": "stream",
     "text": [
      "{'depth': 4, 'iterations': 500, 'learning_rate': 0.01} 0.8244444444444445\n"
     ]
    }
   ],
   "source": [
    "model = CatBoostClassifier(random_state=0, verbose=0, allow_writing_files=False)\n",
    "params = {\n",
    "    'learning_rate': [0.05, 0.03, 0.01],\n",
    "    'iterations': [500, 800, 1000],\n",
    "    'depth': [4, 6, 8]\n",
    "}\n",
    "params, score = tuneParameters(model, params, X_train, Y_train)\n",
    "print(params, score)"
   ]
  },
  {
   "cell_type": "code",
   "execution_count": 11,
   "metadata": {},
   "outputs": [],
   "source": [
    "model = DecisionTreeClassifier(random_state=0)\n",
    "predict(model, X_train, Y_train, X_test, id, 'result_basic.csv')"
   ]
  },
  {
   "cell_type": "markdown",
   "metadata": {},
   "source": [
    "# Improvements"
   ]
  },
  {
   "cell_type": "markdown",
   "metadata": {},
   "source": [
    "## Univariate"
   ]
  },
  {
   "cell_type": "markdown",
   "metadata": {},
   "source": [
    "### Fare"
   ]
  },
  {
   "cell_type": "code",
   "execution_count": 12,
   "metadata": {},
   "outputs": [],
   "source": [
    "def processFare(train_data, test_data):\n",
    "    train_data_new, test_data_new = train_data.copy(), test_data.copy()\n",
    "\n",
    "    feature = 'Fare'\n",
    "    fill_value = train_data_new[feature].mode()[0]\n",
    "    test_data_new[feature] = test_data_new[feature].fillna(value=fill_value)\n",
    "\n",
    "    return train_data_new, test_data_new"
   ]
  },
  {
   "cell_type": "code",
   "execution_count": 13,
   "metadata": {},
   "outputs": [],
   "source": [
    "train_data_new, test_data_new = processFare(train_data, test_data)"
   ]
  },
  {
   "cell_type": "code",
   "execution_count": 14,
   "metadata": {},
   "outputs": [],
   "source": [
    "columns_to_drop = ['Age', 'Embarked']\n",
    "X_train, Y_train, X_test = prepareData(columns_to_drop, label, train_data_new, test_data_new)"
   ]
  },
  {
   "cell_type": "code",
   "execution_count": 15,
   "metadata": {},
   "outputs": [
    {
     "name": "stdout",
     "output_type": "stream",
     "text": [
      "                         name  accuracy_mean\n",
      "0      DecisionTreeClassifier       0.816667\n",
      "1      RandomForestClassifier       0.811111\n",
      "2  GradientBoostingClassifier       0.827778\n",
      "3               XGBClassifier       0.821111\n",
      "4          CatBoostClassifier       0.816667\n"
     ]
    }
   ],
   "source": [
    "cv_results = evaluation(models, X_train, Y_train)\n",
    "print(cv_results)"
   ]
  },
  {
   "cell_type": "markdown",
   "metadata": {},
   "source": [
    "### Age"
   ]
  },
  {
   "cell_type": "code",
   "execution_count": 13,
   "metadata": {},
   "outputs": [],
   "source": [
    "def processAge(train_data, test_data):\n",
    "    train_data_new, test_data_new = train_data.copy(), test_data.copy()\n",
    "\n",
    "    feature = 'Age'\n",
    "    fill_value = train_data_new[feature].mode()[0]\n",
    "    train_data_new[feature] = train_data_new[feature].fillna(value=fill_value)\n",
    "    test_data_new[feature] = test_data_new[feature].fillna(value=fill_value)\n",
    "\n",
    "    return train_data_new, test_data_new"
   ]
  },
  {
   "cell_type": "code",
   "execution_count": 17,
   "metadata": {},
   "outputs": [],
   "source": [
    "train_data_new, test_data_new = processAge(train_data, test_data)"
   ]
  },
  {
   "cell_type": "code",
   "execution_count": 18,
   "metadata": {},
   "outputs": [],
   "source": [
    "columns_to_drop = ['Fare', 'Embarked']\n",
    "X_train, Y_train, X_test = prepareData(columns_to_drop, label, train_data_new, test_data_new)"
   ]
  },
  {
   "cell_type": "code",
   "execution_count": 19,
   "metadata": {},
   "outputs": [
    {
     "name": "stdout",
     "output_type": "stream",
     "text": [
      "                         name  accuracy_mean\n",
      "0      DecisionTreeClassifier       0.802222\n",
      "1      RandomForestClassifier       0.808889\n",
      "2  GradientBoostingClassifier       0.834444\n",
      "3               XGBClassifier       0.818889\n",
      "4          CatBoostClassifier       0.832222\n"
     ]
    }
   ],
   "source": [
    "cv_results = evaluation(models, X_train, Y_train)\n",
    "print(cv_results)"
   ]
  },
  {
   "cell_type": "markdown",
   "metadata": {},
   "source": [
    "### Embarked"
   ]
  },
  {
   "cell_type": "code",
   "execution_count": 14,
   "metadata": {},
   "outputs": [],
   "source": [
    "def processEmbarked(train_data, test_data):\n",
    "    train_data_new, test_data_new = train_data.copy(), test_data.copy()\n",
    "\n",
    "    feature = 'Embarked'\n",
    "    fill_value = train_data_new[feature].mode()[0]\n",
    "    train_data_new[feature] = train_data_new[feature].fillna(value=fill_value)\n",
    "    test_data_new[feature] = test_data_new[feature].fillna(value=fill_value)\n",
    "\n",
    "    train_data_new, test_data_new = makeOneHot('Embarked', train_data_new, test_data_new)\n",
    "\n",
    "    return train_data_new, test_data_new"
   ]
  },
  {
   "cell_type": "code",
   "execution_count": 21,
   "metadata": {},
   "outputs": [],
   "source": [
    "train_data_new, test_data_new = processEmbarked(train_data, test_data)"
   ]
  },
  {
   "cell_type": "code",
   "execution_count": 22,
   "metadata": {},
   "outputs": [],
   "source": [
    "columns_to_drop = ['Age', 'Fare']\n",
    "X_train, Y_train, X_test = prepareData(columns_to_drop + columns_to_drop, label, train_data_new, test_data_new)"
   ]
  },
  {
   "cell_type": "code",
   "execution_count": 23,
   "metadata": {},
   "outputs": [
    {
     "name": "stdout",
     "output_type": "stream",
     "text": [
      "                         name  accuracy_mean\n",
      "0      DecisionTreeClassifier       0.804444\n",
      "1      RandomForestClassifier       0.805556\n",
      "2  GradientBoostingClassifier       0.813333\n",
      "3               XGBClassifier       0.798889\n",
      "4          CatBoostClassifier       0.800000\n"
     ]
    }
   ],
   "source": [
    "cv_results = evaluation(models, X_train, Y_train)\n",
    "print(cv_results)"
   ]
  },
  {
   "cell_type": "markdown",
   "metadata": {},
   "source": [
    "### Title"
   ]
  },
  {
   "cell_type": "code",
   "execution_count": 15,
   "metadata": {},
   "outputs": [],
   "source": [
    "def processTitle(train_data, test_data):\n",
    "    train_data_new, test_data_new = train_data.copy(), test_data.copy()\n",
    "\n",
    "    feature = 'Title'\n",
    "\n",
    "    def process(name):\n",
    "        new_feature = name.str.extract(r' ([A-Za-z]+)\\.', expand=False)\n",
    "        new_feature = new_feature.replace({'Mlle': 'Miss', 'Ms': 'Miss', 'Mme': 'Mrs'})\n",
    "        new_feature = new_feature.replace(['Lady', 'Countess','Capt', 'Col', 'Don', 'Dr', 'Major', 'Rev', 'Sir', 'Jonkheer', 'Dona'], 'Rare')\n",
    "        \n",
    "        return new_feature\n",
    "    \n",
    "    train_data_new[feature] = process(train_data_new['Name'])\n",
    "    test_data_new[feature] = process(test_data_new['Name'])\n",
    "\n",
    "    train_data_new, test_data_new = makeOneHot(feature, train_data_new, test_data_new)\n",
    "\n",
    "    return train_data_new, test_data_new"
   ]
  },
  {
   "cell_type": "code",
   "execution_count": 25,
   "metadata": {},
   "outputs": [],
   "source": [
    "train_data_new, test_data_new = processTitle(train_data, test_data)"
   ]
  },
  {
   "cell_type": "code",
   "execution_count": 26,
   "metadata": {},
   "outputs": [],
   "source": [
    "columns_to_drop = ['Age', 'Fare', 'Embarked']\n",
    "X_train, Y_train, X_test = prepareData(columns_to_drop, label, train_data_new, test_data_new)"
   ]
  },
  {
   "cell_type": "code",
   "execution_count": 27,
   "metadata": {},
   "outputs": [
    {
     "name": "stdout",
     "output_type": "stream",
     "text": [
      "                         name  accuracy_mean\n",
      "0      DecisionTreeClassifier       0.815556\n",
      "1      RandomForestClassifier       0.814444\n",
      "2  GradientBoostingClassifier       0.830000\n",
      "3               XGBClassifier       0.817778\n",
      "4          CatBoostClassifier       0.831111\n"
     ]
    }
   ],
   "source": [
    "cv_results = evaluation(models, X_train, Y_train)\n",
    "print(cv_results)"
   ]
  },
  {
   "cell_type": "markdown",
   "metadata": {},
   "source": [
    "### Family"
   ]
  },
  {
   "cell_type": "code",
   "execution_count": 16,
   "metadata": {},
   "outputs": [],
   "source": [
    "def processFamily(train_data, test_data):\n",
    "    train_data_new, test_data_new = train_data.copy(), test_data.copy()\n",
    "\n",
    "    train_data_new['Family'] = train_data_new['SibSp'] + train_data_new['Parch'] + 1\n",
    "    test_data_new['Family'] = test_data_new['SibSp'] + test_data_new['Parch'] + 1\n",
    "\n",
    "    train_data_new = train_data_new.drop(['SibSp', 'Parch'], axis=1)\n",
    "    test_data_new = test_data_new.drop(['SibSp', 'Parch'], axis=1)\n",
    "\n",
    "    return train_data_new, test_data_new"
   ]
  },
  {
   "cell_type": "code",
   "execution_count": 29,
   "metadata": {},
   "outputs": [],
   "source": [
    "train_data_new, test_data_new = processFamily(train_data, test_data)"
   ]
  },
  {
   "cell_type": "code",
   "execution_count": 30,
   "metadata": {},
   "outputs": [],
   "source": [
    "columns_to_drop = ['Age', 'Fare', 'Embarked']\n",
    "X_train, Y_train, X_test = prepareData(columns_to_drop, label, train_data_new, test_data_new)"
   ]
  },
  {
   "cell_type": "code",
   "execution_count": 31,
   "metadata": {},
   "outputs": [
    {
     "name": "stdout",
     "output_type": "stream",
     "text": [
      "                         name  accuracy_mean\n",
      "0      DecisionTreeClassifier       0.808889\n",
      "1      RandomForestClassifier       0.807778\n",
      "2  GradientBoostingClassifier       0.824444\n",
      "3               XGBClassifier       0.813333\n",
      "4          CatBoostClassifier       0.822222\n"
     ]
    }
   ],
   "source": [
    "cv_results = evaluation(models, X_train, Y_train)\n",
    "print(cv_results)"
   ]
  },
  {
   "cell_type": "markdown",
   "metadata": {},
   "source": [
    "### Alone"
   ]
  },
  {
   "cell_type": "code",
   "execution_count": 17,
   "metadata": {},
   "outputs": [],
   "source": [
    "def processAlone(train_data, test_data):\n",
    "    train_data_new, test_data_new = processFamily(train_data, test_data)\n",
    "\n",
    "    train_data_new['Alone'] = train_data_new['Family'].apply(lambda x: 1 if x == 1 else 0)\n",
    "    test_data_new['Alone'] = test_data_new['Family'].apply(lambda x: 1 if x == 1 else 0)\n",
    "\n",
    "    train_data_new = train_data_new.drop('Family', axis=1)\n",
    "    test_data_new = test_data_new.drop('Family', axis=1)\n",
    "\n",
    "    return train_data_new, test_data_new"
   ]
  },
  {
   "cell_type": "code",
   "execution_count": 33,
   "metadata": {},
   "outputs": [],
   "source": [
    "train_data_new, test_data_new = processAlone(train_data, test_data)"
   ]
  },
  {
   "cell_type": "code",
   "execution_count": 34,
   "metadata": {},
   "outputs": [],
   "source": [
    "columns_to_drop = ['Age', 'Fare', 'Embarked']\n",
    "X_train, Y_train, X_test = prepareData(columns_to_drop, label, train_data_new, test_data_new)"
   ]
  },
  {
   "cell_type": "code",
   "execution_count": 35,
   "metadata": {},
   "outputs": [
    {
     "name": "stdout",
     "output_type": "stream",
     "text": [
      "                         name  accuracy_mean\n",
      "0      DecisionTreeClassifier       0.814444\n",
      "1      RandomForestClassifier       0.814444\n",
      "2  GradientBoostingClassifier       0.814444\n",
      "3               XGBClassifier       0.814444\n",
      "4          CatBoostClassifier       0.814444\n"
     ]
    }
   ],
   "source": [
    "cv_results = evaluation(models, X_train, Y_train)\n",
    "print(cv_results)"
   ]
  },
  {
   "cell_type": "markdown",
   "metadata": {},
   "source": [
    "### FareBinned"
   ]
  },
  {
   "cell_type": "code",
   "execution_count": 18,
   "metadata": {},
   "outputs": [],
   "source": [
    "def processFareBin(train_data, test_data):\n",
    "    train_data_new, test_data_new = train_data.copy(), test_data.copy()\n",
    "\n",
    "    feature = 'Fare'\n",
    "    new_feature = 'FareBinned'\n",
    "\n",
    "    fill_value = train_data[feature].mode()[0]\n",
    "    test_data_new[feature] = test_data_new[feature].fillna(value=fill_value)\n",
    "\n",
    "    train_data_new[new_feature], bins = pd.cut(train_data_new[feature], 5, labels=[0,1,2,3,4], retbins=True)\n",
    "    train_data_new[new_feature] = train_data_new[new_feature].astype('int')\n",
    "    test_data_new[new_feature] = pd.cut(test_data_new[feature], bins=bins, labels=[0,1,2,3,4])\n",
    "    test_data_new[new_feature] = test_data_new[new_feature].astype('int')\n",
    "\n",
    "    train_data_new = train_data_new.drop(feature, axis=1)\n",
    "    test_data_new = test_data_new.drop(feature, axis=1)\n",
    "\n",
    "    return train_data_new, test_data_new"
   ]
  },
  {
   "cell_type": "code",
   "execution_count": 37,
   "metadata": {},
   "outputs": [],
   "source": [
    "train_data_new, test_data_new = processFareBin(train_data, test_data)"
   ]
  },
  {
   "cell_type": "code",
   "execution_count": 38,
   "metadata": {},
   "outputs": [],
   "source": [
    "columns_to_drop = ['Age', 'Embarked']\n",
    "X_train, Y_train, X_test = prepareData(columns_to_drop, label, train_data_new, test_data_new)"
   ]
  },
  {
   "cell_type": "code",
   "execution_count": 39,
   "metadata": {},
   "outputs": [
    {
     "name": "stdout",
     "output_type": "stream",
     "text": [
      "                         name  accuracy_mean\n",
      "0      DecisionTreeClassifier       0.791111\n",
      "1      RandomForestClassifier       0.794444\n",
      "2  GradientBoostingClassifier       0.808889\n",
      "3               XGBClassifier       0.797778\n",
      "4          CatBoostClassifier       0.817778\n"
     ]
    }
   ],
   "source": [
    "cv_results = evaluation(models, X_train, Y_train)\n",
    "print(cv_results)"
   ]
  },
  {
   "cell_type": "markdown",
   "metadata": {},
   "source": [
    "### AgeBinned"
   ]
  },
  {
   "cell_type": "code",
   "execution_count": 19,
   "metadata": {},
   "outputs": [],
   "source": [
    "def processAgeBin(train_data, test_data):\n",
    "    train_data_new, test_data_new = train_data.copy(), test_data.copy()\n",
    "\n",
    "    feature = 'Age'\n",
    "    new_feature = 'AgeBinned'\n",
    "\n",
    "    fill_value = train_data[feature].mode()[0]\n",
    "    train_data_new[feature] = train_data_new[feature].fillna(value=fill_value)\n",
    "    test_data_new[feature] = test_data_new[feature].fillna(value=fill_value)\n",
    "\n",
    "    train_data_new[new_feature], bins = pd.cut(train_data_new[feature], 5, labels=[0,1,2,3,4], retbins=True)\n",
    "    train_data_new[new_feature] = train_data_new[new_feature].astype('int')\n",
    "    test_data_new[new_feature] = pd.cut(test_data_new[feature], bins=bins, labels=[0,1,2,3,4])\n",
    "    test_data_new[new_feature] = test_data_new[new_feature].fillna(value=0)\n",
    "    test_data_new[new_feature] = test_data_new[new_feature].astype('int')\n",
    "\n",
    "    train_data_new = train_data_new.drop(feature, axis=1)\n",
    "    test_data_new = test_data_new.drop(feature, axis=1)\n",
    "\n",
    "    return train_data_new, test_data_new"
   ]
  },
  {
   "cell_type": "code",
   "execution_count": 44,
   "metadata": {},
   "outputs": [],
   "source": [
    "train_data_new, test_data_new = processAgeBin(train_data, test_data)"
   ]
  },
  {
   "cell_type": "code",
   "execution_count": 45,
   "metadata": {},
   "outputs": [],
   "source": [
    "columns_to_drop = ['Fare', 'Embarked']\n",
    "X_train, Y_train, X_test = prepareData(columns_to_drop, label, train_data_new, test_data_new)"
   ]
  },
  {
   "cell_type": "code",
   "execution_count": 46,
   "metadata": {},
   "outputs": [
    {
     "name": "stdout",
     "output_type": "stream",
     "text": [
      "                         name  accuracy_mean\n",
      "0      DecisionTreeClassifier       0.798889\n",
      "1      RandomForestClassifier       0.807778\n",
      "2  GradientBoostingClassifier       0.826667\n",
      "3               XGBClassifier       0.820000\n",
      "4          CatBoostClassifier       0.827778\n"
     ]
    }
   ],
   "source": [
    "cv_results = evaluation(models, X_train, Y_train)\n",
    "print(cv_results)"
   ]
  },
  {
   "cell_type": "markdown",
   "metadata": {},
   "source": [
    "### TicketNumber"
   ]
  },
  {
   "cell_type": "code",
   "execution_count": 20,
   "metadata": {},
   "outputs": [],
   "source": [
    "def processTicketNumber(train_data, test_data):\n",
    "    train_data_new, test_data_new = train_data.copy(), test_data.copy()\n",
    "\n",
    "    def get_ticket_number(ticket):\n",
    "        num = ticket.split(' ')[-1]\n",
    "        if num.isdigit():\n",
    "            return int(num)\n",
    "        else:\n",
    "            return -1\n",
    "\n",
    "    train_data_new['TicketNumber'] = train_data_new['Ticket'].apply(get_ticket_number)\n",
    "    test_data_new['TicketNumber'] = test_data_new['Ticket'].apply(get_ticket_number)\n",
    "\n",
    "    return train_data_new, test_data_new"
   ]
  },
  {
   "cell_type": "code",
   "execution_count": 48,
   "metadata": {},
   "outputs": [],
   "source": [
    "train_data_new, test_data_new = processTicketNumber(train_data, test_data)"
   ]
  },
  {
   "cell_type": "code",
   "execution_count": 49,
   "metadata": {},
   "outputs": [],
   "source": [
    "columns_to_drop = ['Age', 'Fare', 'Embarked']\n",
    "X_train, Y_train, X_test = prepareData(columns_to_drop, label, train_data_new, test_data_new)"
   ]
  },
  {
   "cell_type": "code",
   "execution_count": 50,
   "metadata": {},
   "outputs": [
    {
     "name": "stdout",
     "output_type": "stream",
     "text": [
      "                         name  accuracy_mean\n",
      "0      DecisionTreeClassifier       0.777778\n",
      "1      RandomForestClassifier       0.791111\n",
      "2  GradientBoostingClassifier       0.822222\n",
      "3               XGBClassifier       0.813333\n",
      "4          CatBoostClassifier       0.815556\n"
     ]
    }
   ],
   "source": [
    "cv_results = evaluation(models, X_train, Y_train)\n",
    "print(cv_results)"
   ]
  },
  {
   "cell_type": "markdown",
   "metadata": {},
   "source": [
    "## Multivariate"
   ]
  },
  {
   "cell_type": "markdown",
   "metadata": {},
   "source": [
    "### Fare + Age"
   ]
  },
  {
   "cell_type": "code",
   "execution_count": 51,
   "metadata": {},
   "outputs": [],
   "source": [
    "train_data_new, test_data_new = processFare(train_data, test_data)\n",
    "train_data_new, test_data_new = processAge(train_data_new, test_data_new)"
   ]
  },
  {
   "cell_type": "code",
   "execution_count": 52,
   "metadata": {},
   "outputs": [],
   "source": [
    "columns_to_drop = ['Embarked']\n",
    "X_train, Y_train, X_test = prepareData(columns_to_drop, label, train_data_new, test_data_new)"
   ]
  },
  {
   "cell_type": "code",
   "execution_count": 53,
   "metadata": {},
   "outputs": [
    {
     "name": "stdout",
     "output_type": "stream",
     "text": [
      "                         name  accuracy_mean\n",
      "0      DecisionTreeClassifier       0.795556\n",
      "1      RandomForestClassifier       0.823333\n",
      "2  GradientBoostingClassifier       0.843333\n",
      "3               XGBClassifier       0.837778\n",
      "4          CatBoostClassifier       0.840000\n"
     ]
    }
   ],
   "source": [
    "cv_results = evaluation(models, X_train, Y_train)\n",
    "print(cv_results)"
   ]
  },
  {
   "cell_type": "markdown",
   "metadata": {},
   "source": [
    "### Fare + AgeBinned"
   ]
  },
  {
   "cell_type": "code",
   "execution_count": 54,
   "metadata": {},
   "outputs": [],
   "source": [
    "train_data_new, test_data_new = processFare(train_data, test_data)\n",
    "train_data_new, test_data_new = processAgeBin(train_data_new, test_data_new)"
   ]
  },
  {
   "cell_type": "code",
   "execution_count": 55,
   "metadata": {},
   "outputs": [],
   "source": [
    "columns_to_drop = ['Embarked']\n",
    "X_train, Y_train, X_test = prepareData(columns_to_drop, label, train_data_new, test_data_new)"
   ]
  },
  {
   "cell_type": "code",
   "execution_count": 56,
   "metadata": {},
   "outputs": [
    {
     "name": "stdout",
     "output_type": "stream",
     "text": [
      "                         name  accuracy_mean\n",
      "0      DecisionTreeClassifier       0.810000\n",
      "1      RandomForestClassifier       0.816667\n",
      "2  GradientBoostingClassifier       0.835556\n",
      "3               XGBClassifier       0.838889\n",
      "4          CatBoostClassifier       0.831111\n"
     ]
    }
   ],
   "source": [
    "cv_results = evaluation(models, X_train, Y_train)\n",
    "print(cv_results)"
   ]
  },
  {
   "cell_type": "markdown",
   "metadata": {},
   "source": [
    "### FareBinned + Age"
   ]
  },
  {
   "cell_type": "code",
   "execution_count": 57,
   "metadata": {},
   "outputs": [],
   "source": [
    "train_data_new, test_data_new = processFareBin(train_data, test_data)\n",
    "train_data_new, test_data_new = processAge(train_data_new, test_data_new)"
   ]
  },
  {
   "cell_type": "code",
   "execution_count": 58,
   "metadata": {},
   "outputs": [],
   "source": [
    "columns_to_drop = ['Embarked']\n",
    "X_train, Y_train, X_test = prepareData(columns_to_drop, label, train_data_new, test_data_new)"
   ]
  },
  {
   "cell_type": "code",
   "execution_count": 59,
   "metadata": {},
   "outputs": [
    {
     "name": "stdout",
     "output_type": "stream",
     "text": [
      "                         name  accuracy_mean\n",
      "0      DecisionTreeClassifier       0.802222\n",
      "1      RandomForestClassifier       0.814444\n",
      "2  GradientBoostingClassifier       0.836667\n",
      "3               XGBClassifier       0.820000\n",
      "4          CatBoostClassifier       0.837778\n"
     ]
    }
   ],
   "source": [
    "cv_results = evaluation(models, X_train, Y_train)\n",
    "print(cv_results)"
   ]
  },
  {
   "cell_type": "markdown",
   "metadata": {},
   "source": [
    "### FareBinned + AgeBinned"
   ]
  },
  {
   "cell_type": "code",
   "execution_count": 60,
   "metadata": {},
   "outputs": [],
   "source": [
    "train_data_new, test_data_new = processFareBin(train_data, test_data)\n",
    "train_data_new, test_data_new = processAgeBin(train_data_new, test_data_new)"
   ]
  },
  {
   "cell_type": "code",
   "execution_count": 61,
   "metadata": {},
   "outputs": [],
   "source": [
    "columns_to_drop = ['Embarked']\n",
    "X_train, Y_train, X_test = prepareData(columns_to_drop, label, train_data_new, test_data_new)"
   ]
  },
  {
   "cell_type": "code",
   "execution_count": 62,
   "metadata": {},
   "outputs": [
    {
     "name": "stdout",
     "output_type": "stream",
     "text": [
      "                         name  accuracy_mean\n",
      "0      DecisionTreeClassifier       0.792222\n",
      "1      RandomForestClassifier       0.807778\n",
      "2  GradientBoostingClassifier       0.824444\n",
      "3               XGBClassifier       0.818889\n",
      "4          CatBoostClassifier       0.834444\n"
     ]
    }
   ],
   "source": [
    "cv_results = evaluation(models, X_train, Y_train)\n",
    "print(cv_results)"
   ]
  },
  {
   "cell_type": "markdown",
   "metadata": {},
   "source": [
    "### FareBinned + Embarked"
   ]
  },
  {
   "cell_type": "code",
   "execution_count": 63,
   "metadata": {},
   "outputs": [],
   "source": [
    "train_data_new, test_data_new = processFareBin(train_data, test_data)\n",
    "train_data_new, test_data_new = processEmbarked(train_data_new, test_data_new)"
   ]
  },
  {
   "cell_type": "code",
   "execution_count": 64,
   "metadata": {},
   "outputs": [],
   "source": [
    "columns_to_drop = ['Age']\n",
    "X_train, Y_train, X_test = prepareData(columns_to_drop, label, train_data_new, test_data_new)"
   ]
  },
  {
   "cell_type": "code",
   "execution_count": 65,
   "metadata": {},
   "outputs": [
    {
     "name": "stdout",
     "output_type": "stream",
     "text": [
      "                         name  accuracy_mean\n",
      "0      DecisionTreeClassifier       0.808889\n",
      "1      RandomForestClassifier       0.811111\n",
      "2  GradientBoostingClassifier       0.814444\n",
      "3               XGBClassifier       0.801111\n",
      "4          CatBoostClassifier       0.811111\n"
     ]
    }
   ],
   "source": [
    "cv_results = evaluation(models, X_train, Y_train)\n",
    "print(cv_results)"
   ]
  },
  {
   "cell_type": "markdown",
   "metadata": {},
   "source": [
    "### FareBinned + Title"
   ]
  },
  {
   "cell_type": "code",
   "execution_count": 66,
   "metadata": {},
   "outputs": [],
   "source": [
    "train_data_new, test_data_new = processFareBin(train_data, test_data)\n",
    "train_data_new, test_data_new = processTitle(train_data_new, test_data_new)"
   ]
  },
  {
   "cell_type": "code",
   "execution_count": 67,
   "metadata": {},
   "outputs": [],
   "source": [
    "columns_to_drop = ['Age', 'Embarked']\n",
    "X_train, Y_train, X_test = prepareData(columns_to_drop, label, train_data_new, test_data_new)"
   ]
  },
  {
   "cell_type": "code",
   "execution_count": 68,
   "metadata": {},
   "outputs": [
    {
     "name": "stdout",
     "output_type": "stream",
     "text": [
      "                         name  accuracy_mean\n",
      "0      DecisionTreeClassifier       0.814444\n",
      "1      RandomForestClassifier       0.816667\n",
      "2  GradientBoostingClassifier       0.833333\n",
      "3               XGBClassifier       0.818889\n",
      "4          CatBoostClassifier       0.831111\n"
     ]
    }
   ],
   "source": [
    "cv_results = evaluation(models, X_train, Y_train)\n",
    "print(cv_results)"
   ]
  },
  {
   "cell_type": "markdown",
   "metadata": {},
   "source": [
    "### FareBinned + Family"
   ]
  },
  {
   "cell_type": "code",
   "execution_count": 69,
   "metadata": {},
   "outputs": [],
   "source": [
    "train_data_new, test_data_new = processFareBin(train_data, test_data)\n",
    "train_data_new, test_data_new = processFamily(train_data_new, test_data_new)"
   ]
  },
  {
   "cell_type": "code",
   "execution_count": 70,
   "metadata": {},
   "outputs": [],
   "source": [
    "columns_to_drop = ['Age', 'Embarked']\n",
    "X_train, Y_train, X_test = prepareData(columns_to_drop, label, train_data_new, test_data_new)"
   ]
  },
  {
   "cell_type": "code",
   "execution_count": 71,
   "metadata": {},
   "outputs": [
    {
     "name": "stdout",
     "output_type": "stream",
     "text": [
      "                         name  accuracy_mean\n",
      "0      DecisionTreeClassifier       0.806667\n",
      "1      RandomForestClassifier       0.806667\n",
      "2  GradientBoostingClassifier       0.823333\n",
      "3               XGBClassifier       0.806667\n",
      "4          CatBoostClassifier       0.822222\n"
     ]
    }
   ],
   "source": [
    "cv_results = evaluation(models, X_train, Y_train)\n",
    "print(cv_results)"
   ]
  },
  {
   "cell_type": "markdown",
   "metadata": {},
   "source": [
    "### FareBinned + Alone"
   ]
  },
  {
   "cell_type": "code",
   "execution_count": 72,
   "metadata": {},
   "outputs": [],
   "source": [
    "train_data_new, test_data_new = processFareBin(train_data, test_data)\n",
    "train_data_new, test_data_new = processAlone(train_data_new, test_data_new)"
   ]
  },
  {
   "cell_type": "code",
   "execution_count": 73,
   "metadata": {},
   "outputs": [],
   "source": [
    "columns_to_drop = ['Age', 'Embarked']\n",
    "X_train, Y_train, X_test = prepareData(columns_to_drop, label, train_data_new, test_data_new)"
   ]
  },
  {
   "cell_type": "code",
   "execution_count": 74,
   "metadata": {},
   "outputs": [
    {
     "name": "stdout",
     "output_type": "stream",
     "text": [
      "                         name  accuracy_mean\n",
      "0      DecisionTreeClassifier       0.810000\n",
      "1      RandomForestClassifier       0.810000\n",
      "2  GradientBoostingClassifier       0.812222\n",
      "3               XGBClassifier       0.810000\n",
      "4          CatBoostClassifier       0.810000\n"
     ]
    }
   ],
   "source": [
    "cv_results = evaluation(models, X_train, Y_train)\n",
    "print(cv_results)"
   ]
  },
  {
   "cell_type": "markdown",
   "metadata": {},
   "source": [
    "### AgeBinned + Embarked"
   ]
  },
  {
   "cell_type": "code",
   "execution_count": 75,
   "metadata": {},
   "outputs": [],
   "source": [
    "train_data_new, test_data_new = processAgeBin(train_data, test_data)\n",
    "train_data_new, test_data_new = processEmbarked(train_data_new, test_data_new)"
   ]
  },
  {
   "cell_type": "code",
   "execution_count": 76,
   "metadata": {},
   "outputs": [],
   "source": [
    "columns_to_drop = ['Fare']\n",
    "X_train, Y_train, X_test = prepareData(columns_to_drop, label, train_data_new, test_data_new)"
   ]
  },
  {
   "cell_type": "code",
   "execution_count": 77,
   "metadata": {},
   "outputs": [
    {
     "name": "stdout",
     "output_type": "stream",
     "text": [
      "                         name  accuracy_mean\n",
      "0      DecisionTreeClassifier       0.801111\n",
      "1      RandomForestClassifier       0.812222\n",
      "2  GradientBoostingClassifier       0.827778\n",
      "3               XGBClassifier       0.816667\n",
      "4          CatBoostClassifier       0.820000\n"
     ]
    }
   ],
   "source": [
    "cv_results = evaluation(models, X_train, Y_train)\n",
    "print(cv_results)"
   ]
  },
  {
   "cell_type": "markdown",
   "metadata": {},
   "source": [
    "### AgeBinned + Title"
   ]
  },
  {
   "cell_type": "code",
   "execution_count": 78,
   "metadata": {},
   "outputs": [],
   "source": [
    "train_data_new, test_data_new = processAgeBin(train_data, test_data)\n",
    "train_data_new, test_data_new = processTitle(train_data_new, test_data_new)"
   ]
  },
  {
   "cell_type": "code",
   "execution_count": 79,
   "metadata": {},
   "outputs": [],
   "source": [
    "columns_to_drop = ['Fare', 'Embarked']\n",
    "X_train, Y_train, X_test = prepareData(columns_to_drop, label, train_data_new, test_data_new)"
   ]
  },
  {
   "cell_type": "code",
   "execution_count": 80,
   "metadata": {},
   "outputs": [
    {
     "name": "stdout",
     "output_type": "stream",
     "text": [
      "                         name  accuracy_mean\n",
      "0      DecisionTreeClassifier       0.815556\n",
      "1      RandomForestClassifier       0.822222\n",
      "2  GradientBoostingClassifier       0.841111\n",
      "3               XGBClassifier       0.818889\n",
      "4          CatBoostClassifier       0.831111\n"
     ]
    }
   ],
   "source": [
    "cv_results = evaluation(models, X_train, Y_train)\n",
    "print(cv_results)"
   ]
  },
  {
   "cell_type": "markdown",
   "metadata": {},
   "source": [
    "### AgeBinned + Family"
   ]
  },
  {
   "cell_type": "code",
   "execution_count": 81,
   "metadata": {},
   "outputs": [],
   "source": [
    "train_data_new, test_data_new = processAgeBin(train_data, test_data)\n",
    "train_data_new, test_data_new = processFamily(train_data_new, test_data_new)"
   ]
  },
  {
   "cell_type": "code",
   "execution_count": 82,
   "metadata": {},
   "outputs": [],
   "source": [
    "columns_to_drop = ['Fare', 'Embarked']\n",
    "X_train, Y_train, X_test = prepareData(columns_to_drop, label, train_data_new, test_data_new)"
   ]
  },
  {
   "cell_type": "code",
   "execution_count": 83,
   "metadata": {},
   "outputs": [
    {
     "name": "stdout",
     "output_type": "stream",
     "text": [
      "                         name  accuracy_mean\n",
      "0      DecisionTreeClassifier       0.811111\n",
      "1      RandomForestClassifier       0.817778\n",
      "2  GradientBoostingClassifier       0.830000\n",
      "3               XGBClassifier       0.821111\n",
      "4          CatBoostClassifier       0.821111\n"
     ]
    }
   ],
   "source": [
    "cv_results = evaluation(models, X_train, Y_train)\n",
    "print(cv_results)"
   ]
  },
  {
   "cell_type": "markdown",
   "metadata": {},
   "source": [
    "### AgeBinned + Alone"
   ]
  },
  {
   "cell_type": "code",
   "execution_count": 84,
   "metadata": {},
   "outputs": [],
   "source": [
    "train_data_new, test_data_new = processAgeBin(train_data, test_data)\n",
    "train_data_new, test_data_new = processAlone(train_data_new, test_data_new)"
   ]
  },
  {
   "cell_type": "code",
   "execution_count": 85,
   "metadata": {},
   "outputs": [],
   "source": [
    "columns_to_drop = ['Fare', 'Embarked']\n",
    "X_train, Y_train, X_test = prepareData(columns_to_drop, label, train_data_new, test_data_new)"
   ]
  },
  {
   "cell_type": "code",
   "execution_count": 86,
   "metadata": {},
   "outputs": [
    {
     "name": "stdout",
     "output_type": "stream",
     "text": [
      "                         name  accuracy_mean\n",
      "0      DecisionTreeClassifier       0.823333\n",
      "1      RandomForestClassifier       0.818889\n",
      "2  GradientBoostingClassifier       0.813333\n",
      "3               XGBClassifier       0.816667\n",
      "4          CatBoostClassifier       0.816667\n"
     ]
    }
   ],
   "source": [
    "cv_results = evaluation(models, X_train, Y_train)\n",
    "print(cv_results)"
   ]
  },
  {
   "cell_type": "markdown",
   "metadata": {},
   "source": [
    "### FareBinned + AgeBinned + Embarked"
   ]
  },
  {
   "cell_type": "code",
   "execution_count": 87,
   "metadata": {},
   "outputs": [],
   "source": [
    "train_data_new, test_data_new = processFareBin(train_data, test_data)\n",
    "train_data_new, test_data_new = processAgeBin(train_data_new, test_data_new)\n",
    "train_data_new, test_data_new = processEmbarked(train_data_new, test_data_new)"
   ]
  },
  {
   "cell_type": "code",
   "execution_count": 88,
   "metadata": {},
   "outputs": [],
   "source": [
    "columns_to_drop = []\n",
    "X_train, Y_train, X_test = prepareData(columns_to_drop, label, train_data_new, test_data_new)"
   ]
  },
  {
   "cell_type": "code",
   "execution_count": 89,
   "metadata": {},
   "outputs": [
    {
     "name": "stdout",
     "output_type": "stream",
     "text": [
      "                         name  accuracy_mean\n",
      "0      DecisionTreeClassifier       0.811111\n",
      "1      RandomForestClassifier       0.823333\n",
      "2  GradientBoostingClassifier       0.830000\n",
      "3               XGBClassifier       0.820000\n",
      "4          CatBoostClassifier       0.834444\n"
     ]
    }
   ],
   "source": [
    "cv_results = evaluation(models, X_train, Y_train)\n",
    "print(cv_results)"
   ]
  },
  {
   "cell_type": "markdown",
   "metadata": {},
   "source": [
    "### FareBinned + AgeBinned + Title"
   ]
  },
  {
   "cell_type": "code",
   "execution_count": 90,
   "metadata": {},
   "outputs": [],
   "source": [
    "train_data_new, test_data_new = processFareBin(train_data, test_data)\n",
    "train_data_new, test_data_new = processAgeBin(train_data_new, test_data_new)\n",
    "train_data_new, test_data_new = processAlone(train_data_new, test_data_new)"
   ]
  },
  {
   "cell_type": "code",
   "execution_count": 91,
   "metadata": {},
   "outputs": [],
   "source": [
    "columns_to_drop = ['Embarked']\n",
    "X_train, Y_train, X_test = prepareData(columns_to_drop, label, train_data_new, test_data_new)"
   ]
  },
  {
   "cell_type": "code",
   "execution_count": 92,
   "metadata": {},
   "outputs": [
    {
     "name": "stdout",
     "output_type": "stream",
     "text": [
      "                         name  accuracy_mean\n",
      "0      DecisionTreeClassifier       0.814444\n",
      "1      RandomForestClassifier       0.812222\n",
      "2  GradientBoostingClassifier       0.808889\n",
      "3               XGBClassifier       0.811111\n",
      "4          CatBoostClassifier       0.810000\n"
     ]
    }
   ],
   "source": [
    "cv_results = evaluation(models, X_train, Y_train)\n",
    "print(cv_results)"
   ]
  },
  {
   "cell_type": "markdown",
   "metadata": {},
   "source": [
    "### FareBinned + AgeBinned + Family"
   ]
  },
  {
   "cell_type": "code",
   "execution_count": 93,
   "metadata": {},
   "outputs": [],
   "source": [
    "train_data_new, test_data_new = processFareBin(train_data, test_data)\n",
    "train_data_new, test_data_new = processAgeBin(train_data_new, test_data_new)\n",
    "train_data_new, test_data_new = processFamily(train_data_new, test_data_new)"
   ]
  },
  {
   "cell_type": "code",
   "execution_count": 94,
   "metadata": {},
   "outputs": [],
   "source": [
    "columns_to_drop = ['Embarked']\n",
    "X_train, Y_train, X_test = prepareData(columns_to_drop, label, train_data_new, test_data_new)"
   ]
  },
  {
   "cell_type": "code",
   "execution_count": 95,
   "metadata": {},
   "outputs": [
    {
     "name": "stdout",
     "output_type": "stream",
     "text": [
      "                         name  accuracy_mean\n",
      "0      DecisionTreeClassifier       0.805556\n",
      "1      RandomForestClassifier       0.814444\n",
      "2  GradientBoostingClassifier       0.825556\n",
      "3               XGBClassifier       0.818889\n",
      "4          CatBoostClassifier       0.821111\n"
     ]
    }
   ],
   "source": [
    "cv_results = evaluation(models, X_train, Y_train)\n",
    "print(cv_results)"
   ]
  },
  {
   "cell_type": "markdown",
   "metadata": {},
   "source": [
    "### FareBinned + AgeBinned + Alone"
   ]
  },
  {
   "cell_type": "code",
   "execution_count": 96,
   "metadata": {},
   "outputs": [],
   "source": [
    "train_data_new, test_data_new = processFareBin(train_data, test_data)\n",
    "train_data_new, test_data_new = processAgeBin(train_data_new, test_data_new)\n",
    "train_data_new, test_data_new = processAlone(train_data_new, test_data_new)"
   ]
  },
  {
   "cell_type": "code",
   "execution_count": 97,
   "metadata": {},
   "outputs": [],
   "source": [
    "columns_to_drop = ['Embarked']\n",
    "X_train, Y_train, X_test = prepareData(columns_to_drop, label, train_data_new, test_data_new)"
   ]
  },
  {
   "cell_type": "code",
   "execution_count": 98,
   "metadata": {},
   "outputs": [
    {
     "name": "stdout",
     "output_type": "stream",
     "text": [
      "                         name  accuracy_mean\n",
      "0      DecisionTreeClassifier       0.814444\n",
      "1      RandomForestClassifier       0.812222\n",
      "2  GradientBoostingClassifier       0.808889\n",
      "3               XGBClassifier       0.811111\n",
      "4          CatBoostClassifier       0.810000\n"
     ]
    }
   ],
   "source": [
    "cv_results = evaluation(models, X_train, Y_train)\n",
    "print(cv_results)"
   ]
  },
  {
   "cell_type": "markdown",
   "metadata": {},
   "source": [
    "### FareBinned + AgeBinned + TicketNumber"
   ]
  },
  {
   "cell_type": "code",
   "execution_count": 99,
   "metadata": {},
   "outputs": [],
   "source": [
    "train_data_new, test_data_new = processFareBin(train_data, test_data)\n",
    "train_data_new, test_data_new = processAgeBin(train_data_new, test_data_new)\n",
    "train_data_new, test_data_new = processTicketNumber(train_data_new, test_data_new)"
   ]
  },
  {
   "cell_type": "code",
   "execution_count": 100,
   "metadata": {},
   "outputs": [],
   "source": [
    "columns_to_drop = ['Embarked']\n",
    "X_train, Y_train, X_test = prepareData(columns_to_drop, label, train_data_new, test_data_new)"
   ]
  },
  {
   "cell_type": "code",
   "execution_count": 101,
   "metadata": {},
   "outputs": [
    {
     "name": "stdout",
     "output_type": "stream",
     "text": [
      "                         name  accuracy_mean\n",
      "0      DecisionTreeClassifier       0.791111\n",
      "1      RandomForestClassifier       0.806667\n",
      "2  GradientBoostingClassifier       0.841111\n",
      "3               XGBClassifier       0.815556\n",
      "4          CatBoostClassifier       0.837778\n"
     ]
    }
   ],
   "source": [
    "cv_results = evaluation(models, X_train, Y_train)\n",
    "print(cv_results)"
   ]
  },
  {
   "cell_type": "markdown",
   "metadata": {},
   "source": [
    "### FareBinned + AgeBinned + Embarked + Family"
   ]
  },
  {
   "cell_type": "code",
   "execution_count": 102,
   "metadata": {},
   "outputs": [],
   "source": [
    "train_data_new, test_data_new = processFareBin(train_data, test_data)\n",
    "train_data_new, test_data_new = processAgeBin(train_data_new, test_data_new)\n",
    "train_data_new, test_data_new = processEmbarked(train_data_new, test_data_new)\n",
    "train_data_new, test_data_new = processFamily(train_data_new, test_data_new)"
   ]
  },
  {
   "cell_type": "code",
   "execution_count": 103,
   "metadata": {},
   "outputs": [],
   "source": [
    "columns_to_drop = []\n",
    "X_train, Y_train, X_test = prepareData(columns_to_drop, label, train_data_new, test_data_new)"
   ]
  },
  {
   "cell_type": "code",
   "execution_count": 104,
   "metadata": {},
   "outputs": [
    {
     "name": "stdout",
     "output_type": "stream",
     "text": [
      "                         name  accuracy_mean\n",
      "0      DecisionTreeClassifier       0.810000\n",
      "1      RandomForestClassifier       0.814444\n",
      "2  GradientBoostingClassifier       0.823333\n",
      "3               XGBClassifier       0.808889\n",
      "4          CatBoostClassifier       0.817778\n"
     ]
    }
   ],
   "source": [
    "cv_results = evaluation(models, X_train, Y_train)\n",
    "print(cv_results)"
   ]
  },
  {
   "cell_type": "markdown",
   "metadata": {},
   "source": [
    "### FareBinned + AgeBinned + Embarked + Alone"
   ]
  },
  {
   "cell_type": "code",
   "execution_count": 105,
   "metadata": {},
   "outputs": [],
   "source": [
    "train_data_new, test_data_new = processFareBin(train_data, test_data)\n",
    "train_data_new, test_data_new = processAgeBin(train_data_new, test_data_new)\n",
    "train_data_new, test_data_new = processEmbarked(train_data_new, test_data_new)\n",
    "train_data_new, test_data_new = processAlone(train_data_new, test_data_new)"
   ]
  },
  {
   "cell_type": "code",
   "execution_count": 106,
   "metadata": {},
   "outputs": [],
   "source": [
    "columns_to_drop = []\n",
    "X_train, Y_train, X_test = prepareData(columns_to_drop, label, train_data_new, test_data_new)"
   ]
  },
  {
   "cell_type": "code",
   "execution_count": 107,
   "metadata": {},
   "outputs": [
    {
     "name": "stdout",
     "output_type": "stream",
     "text": [
      "                         name  accuracy_mean\n",
      "0      DecisionTreeClassifier       0.810000\n",
      "1      RandomForestClassifier       0.823333\n",
      "2  GradientBoostingClassifier       0.822222\n",
      "3               XGBClassifier       0.818889\n",
      "4          CatBoostClassifier       0.824444\n"
     ]
    }
   ],
   "source": [
    "cv_results = evaluation(models, X_train, Y_train)\n",
    "print(cv_results)"
   ]
  },
  {
   "cell_type": "markdown",
   "metadata": {},
   "source": [
    "### FareBinned + AgeBinned + Embarked + Title"
   ]
  },
  {
   "cell_type": "code",
   "execution_count": 108,
   "metadata": {},
   "outputs": [],
   "source": [
    "train_data_new, test_data_new = processFareBin(train_data, test_data)\n",
    "train_data_new, test_data_new = processAgeBin(train_data_new, test_data_new)\n",
    "train_data_new, test_data_new = processEmbarked(train_data_new, test_data_new)\n",
    "train_data_new, test_data_new = processTitle(train_data_new, test_data_new)"
   ]
  },
  {
   "cell_type": "code",
   "execution_count": 109,
   "metadata": {},
   "outputs": [],
   "source": [
    "columns_to_drop = []\n",
    "X_train, Y_train, X_test = prepareData(columns_to_drop, label, train_data_new, test_data_new)"
   ]
  },
  {
   "cell_type": "code",
   "execution_count": 110,
   "metadata": {},
   "outputs": [
    {
     "name": "stdout",
     "output_type": "stream",
     "text": [
      "                         name  accuracy_mean\n",
      "0      DecisionTreeClassifier       0.800000\n",
      "1      RandomForestClassifier       0.813333\n",
      "2  GradientBoostingClassifier       0.841111\n",
      "3               XGBClassifier       0.820000\n",
      "4          CatBoostClassifier       0.835556\n"
     ]
    }
   ],
   "source": [
    "cv_results = evaluation(models, X_train, Y_train)\n",
    "print(cv_results)"
   ]
  },
  {
   "cell_type": "markdown",
   "metadata": {},
   "source": [
    "### FareBinned + AgeBinned + Embarked + Family + Title"
   ]
  },
  {
   "cell_type": "code",
   "execution_count": 21,
   "metadata": {},
   "outputs": [],
   "source": [
    "train_data_new, test_data_new = processFareBin(train_data, test_data)\n",
    "train_data_new, test_data_new = processAgeBin(train_data_new, test_data_new)\n",
    "train_data_new, test_data_new = processEmbarked(train_data_new, test_data_new)\n",
    "train_data_new, test_data_new = processFamily(train_data_new, test_data_new)\n",
    "train_data_new, test_data_new = processTitle(train_data_new, test_data_new)"
   ]
  },
  {
   "cell_type": "code",
   "execution_count": 22,
   "metadata": {},
   "outputs": [],
   "source": [
    "columns_to_drop = []\n",
    "X_train, Y_train, X_test = prepareData(columns_to_drop, label, train_data_new, test_data_new)"
   ]
  },
  {
   "cell_type": "code",
   "execution_count": 113,
   "metadata": {},
   "outputs": [
    {
     "name": "stdout",
     "output_type": "stream",
     "text": [
      "                         name  accuracy_mean\n",
      "0      DecisionTreeClassifier       0.802222\n",
      "1      RandomForestClassifier       0.815556\n",
      "2  GradientBoostingClassifier       0.827778\n",
      "3               XGBClassifier       0.827778\n",
      "4          CatBoostClassifier       0.831111\n"
     ]
    }
   ],
   "source": [
    "cv_results = evaluation(models, X_train, Y_train)\n",
    "print(cv_results)"
   ]
  },
  {
   "cell_type": "code",
   "execution_count": 34,
   "metadata": {},
   "outputs": [
    {
     "name": "stdout",
     "output_type": "stream",
     "text": [
      "{'criterion': 'gini', 'max_depth': 4} 0.8433333333333334\n"
     ]
    }
   ],
   "source": [
    "model = DecisionTreeClassifier(random_state=0)\n",
    "params = {\n",
    "    'criterion': ['gini', 'entropy'],\n",
    "    'max_depth': [2, 4, 6, None]}\n",
    "params, score = tuneParameters(model, params, X_train, Y_train)\n",
    "print(params, score)"
   ]
  },
  {
   "cell_type": "code",
   "execution_count": 40,
   "metadata": {},
   "outputs": [
    {
     "name": "stdout",
     "output_type": "stream",
     "text": [
      "{'max_depth': 4, 'n_estimators': 100} 0.8466666666666667\n"
     ]
    }
   ],
   "source": [
    "model = RandomForestClassifier(random_state=0)\n",
    "params = {\n",
    "    'n_estimators': [100, 300, 500],\n",
    "    'max_depth': [2, 4, 6, 8, 10, None]\n",
    "}\n",
    "params, score = tuneParameters(model, params, X_train, Y_train)\n",
    "print(params, score)"
   ]
  },
  {
   "cell_type": "code",
   "execution_count": 21,
   "metadata": {},
   "outputs": [
    {
     "name": "stdout",
     "output_type": "stream",
     "text": [
      "{'learning_rate': 0.05, 'max_depth': 2, 'n_estimators': 100} 0.8466666666666667\n"
     ]
    }
   ],
   "source": [
    "model = GradientBoostingClassifier(random_state=0)\n",
    "params = {\n",
    "    'learning_rate': [0.1, 0.05, 0.01],\n",
    "    'n_estimators': [100, 300],\n",
    "    'max_depth': [2, 4, 6, None]\n",
    "}\n",
    "params, score = tuneParameters(model, params, X_train, Y_train)\n",
    "print(params, score)"
   ]
  },
  {
   "cell_type": "code",
   "execution_count": 51,
   "metadata": {},
   "outputs": [
    {
     "name": "stdout",
     "output_type": "stream",
     "text": [
      "{'learning_rate': 0.01, 'max_depth': 2, 'n_estimators': 300} 0.8455555555555556\n"
     ]
    }
   ],
   "source": [
    "model = XGBClassifier(random_state=0)\n",
    "params = {\n",
    "    'learning_rate': [0.1, 0.05, 0.01],\n",
    "    'n_estimators': [100, 300, 500],\n",
    "    'max_depth': [2, 4, 6, 8, 10, None]\n",
    "}\n",
    "params, score = tuneParameters(model, params, X_train, Y_train)\n",
    "print(params, score)"
   ]
  },
  {
   "cell_type": "code",
   "execution_count": 23,
   "metadata": {},
   "outputs": [
    {
     "name": "stdout",
     "output_type": "stream",
     "text": [
      "{'depth': 4, 'iterations': 500, 'learning_rate': 0.01} 0.8400000000000001\n"
     ]
    }
   ],
   "source": [
    "model = CatBoostClassifier(random_state=0, verbose=0, allow_writing_files=False)\n",
    "params = {\n",
    "    'learning_rate': [0.05, 0.03, 0.01],\n",
    "    'iterations': [500, 800, 1000],\n",
    "    'depth': [4, 6, 8]\n",
    "}\n",
    "params, score = tuneParameters(model, params, X_train, Y_train)\n",
    "print(params, score)"
   ]
  },
  {
   "cell_type": "markdown",
   "metadata": {},
   "source": [
    "### FareBinned + AgeBinned + Embarked + Alone + Title"
   ]
  },
  {
   "cell_type": "code",
   "execution_count": 24,
   "metadata": {},
   "outputs": [],
   "source": [
    "train_data_new, test_data_new = processFareBin(train_data, test_data)\n",
    "train_data_new, test_data_new = processAgeBin(train_data_new, test_data_new)\n",
    "train_data_new, test_data_new = processEmbarked(train_data_new, test_data_new)\n",
    "train_data_new, test_data_new = processAlone(train_data_new, test_data_new)\n",
    "train_data_new, test_data_new = processTitle(train_data_new, test_data_new)"
   ]
  },
  {
   "cell_type": "code",
   "execution_count": 25,
   "metadata": {},
   "outputs": [],
   "source": [
    "columns_to_drop = []\n",
    "X_train, Y_train, X_test = prepareData(columns_to_drop, label, train_data_new, test_data_new)"
   ]
  },
  {
   "cell_type": "code",
   "execution_count": 116,
   "metadata": {},
   "outputs": [
    {
     "name": "stdout",
     "output_type": "stream",
     "text": [
      "                         name  accuracy_mean\n",
      "0      DecisionTreeClassifier       0.800000\n",
      "1      RandomForestClassifier       0.807778\n",
      "2  GradientBoostingClassifier       0.831111\n",
      "3               XGBClassifier       0.820000\n",
      "4          CatBoostClassifier       0.817778\n"
     ]
    }
   ],
   "source": [
    "cv_results = evaluation(models, X_train, Y_train)\n",
    "print(cv_results)"
   ]
  },
  {
   "cell_type": "code",
   "execution_count": 31,
   "metadata": {},
   "outputs": [
    {
     "name": "stdout",
     "output_type": "stream",
     "text": [
      "{'criterion': 'gini', 'max_depth': 4} 0.8300000000000001\n"
     ]
    }
   ],
   "source": [
    "model = DecisionTreeClassifier(random_state=0)\n",
    "params = {\n",
    "    'criterion': ['gini', 'entropy'],\n",
    "    'max_depth': [2, 4, 6, None]}\n",
    "params, score = tuneParameters(model, params, X_train, Y_train)\n",
    "print(params, score)"
   ]
  },
  {
   "cell_type": "code",
   "execution_count": 43,
   "metadata": {},
   "outputs": [
    {
     "name": "stdout",
     "output_type": "stream",
     "text": [
      "{'max_depth': 4, 'n_estimators': 100} 0.8277777777777778\n"
     ]
    }
   ],
   "source": [
    "model = RandomForestClassifier(random_state=0)\n",
    "params = {\n",
    "    'n_estimators': [100, 300, 500],\n",
    "    'max_depth': [2, 4, 6, 8, 10, None]\n",
    "}\n",
    "params, score = tuneParameters(model, params, X_train, Y_train)\n",
    "print(params, score)"
   ]
  },
  {
   "cell_type": "code",
   "execution_count": 24,
   "metadata": {},
   "outputs": [
    {
     "name": "stdout",
     "output_type": "stream",
     "text": [
      "{'learning_rate': 0.05, 'max_depth': 4, 'n_estimators': 100} 0.8333333333333334\n"
     ]
    }
   ],
   "source": [
    "model = GradientBoostingClassifier(random_state=0)\n",
    "params = {\n",
    "    'learning_rate': [0.1, 0.05, 0.01],\n",
    "    'n_estimators': [100, 300],\n",
    "    'max_depth': [2, 4, 6, None]\n",
    "}\n",
    "params, score = tuneParameters(model, params, X_train, Y_train)\n",
    "print(params, score)"
   ]
  },
  {
   "cell_type": "code",
   "execution_count": 48,
   "metadata": {},
   "outputs": [
    {
     "name": "stdout",
     "output_type": "stream",
     "text": [
      "{'learning_rate': 0.1, 'max_depth': 2, 'n_estimators': 100} 0.8344444444444445\n"
     ]
    }
   ],
   "source": [
    "model = XGBClassifier(random_state=0)\n",
    "params = {\n",
    "    'learning_rate': [0.1, 0.05, 0.01],\n",
    "    'n_estimators': [100, 300, 500],\n",
    "    'max_depth': [2, 4, 6, None]\n",
    "}\n",
    "params, score = tuneParameters(model, params, X_train, Y_train)\n",
    "print(params, score)"
   ]
  },
  {
   "cell_type": "code",
   "execution_count": 26,
   "metadata": {},
   "outputs": [
    {
     "name": "stdout",
     "output_type": "stream",
     "text": [
      "{'depth': 4, 'iterations': 500, 'learning_rate': 0.01} 0.8355555555555556\n"
     ]
    }
   ],
   "source": [
    "model = CatBoostClassifier(random_state=0, verbose=0, allow_writing_files=False)\n",
    "params = {\n",
    "    'learning_rate': [0.05, 0.03, 0.01],\n",
    "    'iterations': [500, 800, 1000],\n",
    "    'depth': [4, 6, 8]\n",
    "}\n",
    "params, score = tuneParameters(model, params, X_train, Y_train)\n",
    "print(params, score)"
   ]
  },
  {
   "cell_type": "markdown",
   "metadata": {},
   "source": [
    "### FareBinned + AgeBinned + Embarked + Family + Title + TicketNumber"
   ]
  },
  {
   "cell_type": "code",
   "execution_count": 27,
   "metadata": {},
   "outputs": [],
   "source": [
    "train_data_new, test_data_new = processFareBin(train_data, test_data)\n",
    "train_data_new, test_data_new = processAgeBin(train_data_new, test_data_new)\n",
    "train_data_new, test_data_new = processEmbarked(train_data_new, test_data_new)\n",
    "train_data_new, test_data_new = processFamily(train_data_new, test_data_new)\n",
    "train_data_new, test_data_new = processTitle(train_data_new, test_data_new)\n",
    "train_data_new, test_data_new = processTicketNumber(train_data_new, test_data_new)"
   ]
  },
  {
   "cell_type": "code",
   "execution_count": 28,
   "metadata": {},
   "outputs": [],
   "source": [
    "columns_to_drop = []\n",
    "X_train, Y_train, X_test = prepareData(columns_to_drop, label, train_data_new, test_data_new)"
   ]
  },
  {
   "cell_type": "code",
   "execution_count": 127,
   "metadata": {},
   "outputs": [
    {
     "name": "stdout",
     "output_type": "stream",
     "text": [
      "                         name  accuracy_mean\n",
      "0      DecisionTreeClassifier       0.804444\n",
      "1      RandomForestClassifier       0.800000\n",
      "2  GradientBoostingClassifier       0.845556\n",
      "3               XGBClassifier       0.825556\n",
      "4          CatBoostClassifier       0.831111\n"
     ]
    }
   ],
   "source": [
    "cv_results = evaluation(models, X_train, Y_train)\n",
    "print(cv_results)"
   ]
  },
  {
   "cell_type": "code",
   "execution_count": 47,
   "metadata": {},
   "outputs": [
    {
     "name": "stdout",
     "output_type": "stream",
     "text": [
      "{'criterion': 'gini', 'max_depth': 4} 0.8422222222222222\n"
     ]
    }
   ],
   "source": [
    "model = DecisionTreeClassifier(random_state=0)\n",
    "params = {\n",
    "    'criterion': ['gini', 'entropy'],\n",
    "    'max_depth': [2, 4, 6, None]}\n",
    "params, score = tuneParameters(model, params, X_train, Y_train)\n",
    "print(params, score)"
   ]
  },
  {
   "cell_type": "code",
   "execution_count": 46,
   "metadata": {},
   "outputs": [
    {
     "name": "stdout",
     "output_type": "stream",
     "text": [
      "{'max_depth': 4, 'n_estimators': 300} 0.8400000000000001\n"
     ]
    }
   ],
   "source": [
    "model = RandomForestClassifier(random_state=0)\n",
    "params = {\n",
    "    'n_estimators': [100, 300, 500],\n",
    "    'max_depth': [2, 4, 6, 8, 10, None]\n",
    "}\n",
    "params, score = tuneParameters(model, params, X_train, Y_train)\n",
    "print(params, score)"
   ]
  },
  {
   "cell_type": "code",
   "execution_count": 27,
   "metadata": {},
   "outputs": [
    {
     "name": "stdout",
     "output_type": "stream",
     "text": [
      "{'learning_rate': 0.05, 'max_depth': 4, 'n_estimators': 300} 0.8511111111111112\n"
     ]
    }
   ],
   "source": [
    "model = GradientBoostingClassifier(random_state=0)\n",
    "params = {\n",
    "    'learning_rate': [0.1, 0.05],\n",
    "    'n_estimators': [100, 300],\n",
    "    'max_depth': [2, 4, 6, None]\n",
    "}\n",
    "params, score = tuneParameters(model, params, X_train, Y_train)\n",
    "print(params, score)"
   ]
  },
  {
   "cell_type": "code",
   "execution_count": 45,
   "metadata": {},
   "outputs": [
    {
     "name": "stdout",
     "output_type": "stream",
     "text": [
      "{'learning_rate': 0.01, 'max_depth': 2, 'n_estimators': 300} 0.8455555555555556\n"
     ]
    }
   ],
   "source": [
    "model = XGBClassifier(random_state=0)\n",
    "params = {\n",
    "    'learning_rate': [0.1, 0.05, 0.01],\n",
    "    'n_estimators': [100, 300, 500],\n",
    "    'max_depth': [2, 4, 6, 8, 10, None]\n",
    "}\n",
    "params, score = tuneParameters(model, params, X_train, Y_train)\n",
    "print(params, score)"
   ]
  },
  {
   "cell_type": "code",
   "execution_count": 29,
   "metadata": {},
   "outputs": [
    {
     "name": "stdout",
     "output_type": "stream",
     "text": [
      "{'depth': 4, 'iterations': 800, 'learning_rate': 0.05} 0.8477777777777777\n"
     ]
    }
   ],
   "source": [
    "model = CatBoostClassifier(random_state=0, verbose=0, allow_writing_files=False)\n",
    "params = {\n",
    "    'learning_rate': [0.05, 0.03, 0.01],\n",
    "    'iterations': [500, 800, 1000],\n",
    "    'depth': [4, 6, 8]\n",
    "}\n",
    "params, score = tuneParameters(model, params, X_train, Y_train)\n",
    "print(params, score)"
   ]
  },
  {
   "cell_type": "markdown",
   "metadata": {},
   "source": [
    "### FareBinned + AgeBinned + Embarked + Alone + Title + TicketNumber"
   ]
  },
  {
   "cell_type": "code",
   "execution_count": 30,
   "metadata": {},
   "outputs": [],
   "source": [
    "train_data_new, test_data_new = processFareBin(train_data, test_data)\n",
    "train_data_new, test_data_new = processAgeBin(train_data_new, test_data_new)\n",
    "train_data_new, test_data_new = processEmbarked(train_data_new, test_data_new)\n",
    "train_data_new, test_data_new = processAlone(train_data_new, test_data_new)\n",
    "train_data_new, test_data_new = processTitle(train_data_new, test_data_new)\n",
    "train_data_new, test_data_new = processTicketNumber(train_data_new, test_data_new)"
   ]
  },
  {
   "cell_type": "code",
   "execution_count": 31,
   "metadata": {},
   "outputs": [],
   "source": [
    "columns_to_drop = []\n",
    "X_train, Y_train, X_test = prepareData(columns_to_drop, label, train_data_new, test_data_new)"
   ]
  },
  {
   "cell_type": "code",
   "execution_count": 124,
   "metadata": {},
   "outputs": [
    {
     "name": "stdout",
     "output_type": "stream",
     "text": [
      "                         name  accuracy_mean\n",
      "0      DecisionTreeClassifier       0.806667\n",
      "1      RandomForestClassifier       0.797778\n",
      "2  GradientBoostingClassifier       0.841111\n",
      "3               XGBClassifier       0.814444\n",
      "4          CatBoostClassifier       0.834444\n"
     ]
    }
   ],
   "source": [
    "cv_results = evaluation(models, X_train, Y_train)\n",
    "print(cv_results)"
   ]
  },
  {
   "cell_type": "code",
   "execution_count": 28,
   "metadata": {},
   "outputs": [
    {
     "name": "stdout",
     "output_type": "stream",
     "text": [
      "{'criterion': 'gini', 'max_depth': 6} 0.8322222222222223\n"
     ]
    }
   ],
   "source": [
    "model = DecisionTreeClassifier(random_state=0)\n",
    "params = {\n",
    "    'criterion': ['gini', 'entropy'],\n",
    "    'max_depth': [2, 4, 6, None]}\n",
    "params, score = tuneParameters(model, params, X_train, Y_train)\n",
    "print(params, score)"
   ]
  },
  {
   "cell_type": "code",
   "execution_count": 50,
   "metadata": {},
   "outputs": [
    {
     "name": "stdout",
     "output_type": "stream",
     "text": [
      "{'max_depth': 4, 'n_estimators': 100} 0.8355555555555556\n"
     ]
    }
   ],
   "source": [
    "model = RandomForestClassifier(random_state=0)\n",
    "params = {\n",
    "    'n_estimators': [100, 300, 500],\n",
    "    'max_depth': [2, 4, 6, 8, 10, None]\n",
    "}\n",
    "params, score = tuneParameters(model, params, X_train, Y_train)\n",
    "print(params, score)"
   ]
  },
  {
   "cell_type": "code",
   "execution_count": 30,
   "metadata": {},
   "outputs": [
    {
     "name": "stdout",
     "output_type": "stream",
     "text": [
      "{'learning_rate': 0.1, 'max_depth': 4, 'n_estimators': 100} 0.8466666666666667\n"
     ]
    }
   ],
   "source": [
    "model = GradientBoostingClassifier(random_state=0)\n",
    "params = {\n",
    "    'learning_rate': [0.1, 0.05],\n",
    "    'n_estimators': [100, 300],\n",
    "    'max_depth': [2, 4, 6, None]\n",
    "}\n",
    "params, score = tuneParameters(model, params, X_train, Y_train)\n",
    "print(params, score)"
   ]
  },
  {
   "cell_type": "code",
   "execution_count": 54,
   "metadata": {},
   "outputs": [
    {
     "name": "stdout",
     "output_type": "stream",
     "text": [
      "{'learning_rate': 0.1, 'max_depth': 6, 'n_estimators': 100} 0.8411111111111111\n"
     ]
    }
   ],
   "source": [
    "model = XGBClassifier(random_state=0)\n",
    "params = {\n",
    "    'learning_rate': [0.1, 0.05, 0.01],\n",
    "    'n_estimators': [100, 300, 500],\n",
    "    'max_depth': [2, 4, 6, None]\n",
    "}\n",
    "params, score = tuneParameters(model, params, X_train, Y_train)\n",
    "print(params, score)"
   ]
  },
  {
   "cell_type": "code",
   "execution_count": 32,
   "metadata": {},
   "outputs": [
    {
     "name": "stdout",
     "output_type": "stream",
     "text": [
      "{'depth': 4, 'iterations': 500, 'learning_rate': 0.05} 0.8388888888888889\n"
     ]
    }
   ],
   "source": [
    "model = CatBoostClassifier(random_state=0, verbose=0, allow_writing_files=False)\n",
    "params = {\n",
    "    'learning_rate': [0.05, 0.03, 0.01],\n",
    "    'iterations': [500, 800, 1000],\n",
    "    'depth': [4, 6, 8]\n",
    "}\n",
    "params, score = tuneParameters(model, params, X_train, Y_train)\n",
    "print(params, score)"
   ]
  }
 ],
 "metadata": {
  "kernelspec": {
   "display_name": "ml2",
   "language": "python",
   "name": "python3"
  },
  "language_info": {
   "codemirror_mode": {
    "name": "ipython",
    "version": 3
   },
   "file_extension": ".py",
   "mimetype": "text/x-python",
   "name": "python",
   "nbconvert_exporter": "python",
   "pygments_lexer": "ipython3",
   "version": "3.9.19"
  }
 },
 "nbformat": 4,
 "nbformat_minor": 2
}
