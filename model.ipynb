{
 "cells": [
  {
   "cell_type": "markdown",
   "metadata": {},
   "source": [
    "# Import packages and Settings"
   ]
  },
  {
   "cell_type": "code",
   "execution_count": 1,
   "metadata": {},
   "outputs": [],
   "source": [
    "import pandas as pd\n",
    "\n",
    "import matplotlib.pyplot as plt\n",
    "\n",
    "%matplotlib inline"
   ]
  },
  {
   "cell_type": "code",
   "execution_count": 2,
   "metadata": {},
   "outputs": [
    {
     "name": "stderr",
     "output_type": "stream",
     "text": [
      "Intel(R) Extension for Scikit-learn* enabled (https://github.com/intel/scikit-learn-intelex)\n"
     ]
    }
   ],
   "source": [
    "from sklearn.preprocessing import OneHotEncoder\n",
    "from sklearn.tree import DecisionTreeClassifier\n",
    "from sklearn.model_selection import cross_val_score\n",
    "from sklearn.metrics import accuracy_score\n",
    "\n",
    "from sklearnex import patch_sklearn\n",
    "\n",
    "patch_sklearn()"
   ]
  },
  {
   "cell_type": "code",
   "execution_count": 3,
   "metadata": {},
   "outputs": [],
   "source": [
    "train_data = pd.read_csv('./Data/train.csv')\n",
    "test_data = pd.read_csv('./Data/test.csv')\n",
    "\n",
    "train_data['Sex'] = train_data['Sex'].map({'male':0, 'female':1})\n",
    "test_data['Sex'] = test_data['Sex'].map({'male':0, 'female':1})\n",
    "\n",
    "label = 'Survived'"
   ]
  },
  {
   "cell_type": "markdown",
   "metadata": {},
   "source": [
    "# Functions"
   ]
  },
  {
   "cell_type": "code",
   "execution_count": 4,
   "metadata": {},
   "outputs": [],
   "source": [
    "def makeOneHot(column, train_data, test_data):\n",
    "    train_data_new = train_data.copy()\n",
    "    test_data_new = test_data.copy()\n",
    "\n",
    "    encoder_onehot = OneHotEncoder(sparse_output=False)\n",
    "\n",
    "    train_data_onehot = encoder_onehot.fit_transform(pd.DataFrame(train_data[column]))\n",
    "    train_feature_name_onehot = encoder_onehot.get_feature_names_out()\n",
    "    train_data_onehot = pd.DataFrame(train_data_onehot, columns=train_feature_name_onehot, dtype=int)\n",
    "\n",
    "    test_data_onehot = encoder_onehot.transform(pd.DataFrame(test_data[column]))\n",
    "    test_data_onehot = pd.DataFrame(test_data_onehot, columns=train_feature_name_onehot, dtype=int)\n",
    "\n",
    "    train_data_new = pd.concat([train_data_new, train_data_onehot], axis=1)\n",
    "    test_data_new = pd.concat([test_data_new, test_data_onehot], axis=1)\n",
    "\n",
    "    train_data_new = train_data_new.drop(column, axis=1)\n",
    "    test_data_new = test_data_new.drop(column, axis=1)\n",
    "\n",
    "    return train_data_new, test_data_new"
   ]
  },
  {
   "cell_type": "code",
   "execution_count": 9,
   "metadata": {},
   "outputs": [],
   "source": [
    "def PrepareData(columns_to_drop, label, train_data, test_data):\n",
    "    X_train = train_data.drop([label] + columns_to_drop + ['PassengerId', 'Name', 'Ticket', 'Cabin'], axis=1)\n",
    "    Y_train = train_data[label]\n",
    "    X_test = test_data.drop(columns_to_drop + ['PassengerId', 'Name', 'Ticket', 'Cabin'], axis=1)\n",
    "    return X_train, Y_train, X_test"
   ]
  },
  {
   "cell_type": "code",
   "execution_count": 6,
   "metadata": {},
   "outputs": [],
   "source": [
    "def Eval(model, X_train, Y_train):\n",
    "    scores = cross_val_score(model, X_train, Y_train)\n",
    "    return scores.mean()"
   ]
  },
  {
   "cell_type": "markdown",
   "metadata": {},
   "source": [
    "# Base Model"
   ]
  },
  {
   "cell_type": "code",
   "execution_count": 11,
   "metadata": {},
   "outputs": [],
   "source": [
    "columns_to_drop = ['Age', 'Fare', 'Embarked']\n",
    "X_train, Y_train, X_test = PrepareData(columns_to_drop, label, train_data, test_data)"
   ]
  },
  {
   "cell_type": "code",
   "execution_count": 12,
   "metadata": {},
   "outputs": [
    {
     "name": "stdout",
     "output_type": "stream",
     "text": [
      "0.7845395769254911\n"
     ]
    }
   ],
   "source": [
    "model = DecisionTreeClassifier(random_state=0)\n",
    "print(Eval(model, X_train, Y_train))"
   ]
  },
  {
   "cell_type": "code",
   "execution_count": 15,
   "metadata": {},
   "outputs": [],
   "source": [
    "model = DecisionTreeClassifier(random_state=0)\n",
    "model.fit(X_train, Y_train)\n",
    "predictions = model.predict(X_test)"
   ]
  },
  {
   "cell_type": "code",
   "execution_count": 16,
   "metadata": {},
   "outputs": [],
   "source": [
    "result = pd.DataFrame({\n",
    "    'PassengerId': test_data['PassengerId'],\n",
    "    'Survived': predictions\n",
    "})\n",
    "result.to_csv('./Result/result_basic.csv', index=False)"
   ]
  },
  {
   "cell_type": "markdown",
   "metadata": {},
   "source": [
    "# Improvements"
   ]
  },
  {
   "cell_type": "markdown",
   "metadata": {},
   "source": [
    "## Univariate"
   ]
  },
  {
   "cell_type": "markdown",
   "metadata": {},
   "source": [
    "### Fare"
   ]
  },
  {
   "cell_type": "code",
   "execution_count": 13,
   "metadata": {},
   "outputs": [],
   "source": [
    "def processFare(train_data, test_data):\n",
    "    train_data_new, test_data_new = train_data.copy(), test_data.copy()\n",
    "\n",
    "    feature = 'Fare'\n",
    "    fill_value = train_data_new[feature].mode()[0]\n",
    "    test_data_new[feature] = test_data_new[feature].fillna(value=fill_value)\n",
    "\n",
    "    return train_data_new, test_data_new"
   ]
  },
  {
   "cell_type": "code",
   "execution_count": 14,
   "metadata": {},
   "outputs": [],
   "source": [
    "train_data_new, test_data_new = processFare(train_data, test_data)"
   ]
  },
  {
   "cell_type": "code",
   "execution_count": 15,
   "metadata": {},
   "outputs": [],
   "source": [
    "columns_to_drop = ['Age', 'Embarked']\n",
    "X_train, Y_train, X_test = PrepareData(columns_to_drop, label, train_data_new, test_data_new)"
   ]
  },
  {
   "cell_type": "code",
   "execution_count": 16,
   "metadata": {},
   "outputs": [
    {
     "name": "stdout",
     "output_type": "stream",
     "text": [
      "0.7946833218253719\n"
     ]
    }
   ],
   "source": [
    "model = DecisionTreeClassifier(random_state=0) \n",
    "print(Eval(model, X_train, Y_train))"
   ]
  },
  {
   "cell_type": "markdown",
   "metadata": {},
   "source": [
    "### Age"
   ]
  },
  {
   "cell_type": "code",
   "execution_count": 17,
   "metadata": {},
   "outputs": [],
   "source": [
    "def processAge(train_data, test_data):\n",
    "    train_data_new, test_data_new = train_data.copy(), test_data.copy()\n",
    "\n",
    "    feature = 'Age'\n",
    "    fill_value = train_data_new[feature].mode()[0]\n",
    "    train_data_new[feature] = train_data_new[feature].fillna(value=fill_value)\n",
    "    test_data_new[feature] = test_data_new[feature].fillna(value=fill_value)\n",
    "\n",
    "    return train_data_new, test_data_new"
   ]
  },
  {
   "cell_type": "code",
   "execution_count": 18,
   "metadata": {},
   "outputs": [],
   "source": [
    "train_data_new, test_data_new = processAge(train_data, test_data)"
   ]
  },
  {
   "cell_type": "code",
   "execution_count": 19,
   "metadata": {},
   "outputs": [],
   "source": [
    "columns_to_drop = ['Fare', 'Embarked']\n",
    "X_train, Y_train, X_test = PrepareData(columns_to_drop, label, train_data_new, test_data_new)"
   ]
  },
  {
   "cell_type": "code",
   "execution_count": 20,
   "metadata": {},
   "outputs": [
    {
     "name": "stdout",
     "output_type": "stream",
     "text": [
      "0.8159437574540205\n"
     ]
    }
   ],
   "source": [
    "model = DecisionTreeClassifier(random_state=0) \n",
    "print(Eval(model, X_train, Y_train))"
   ]
  },
  {
   "cell_type": "markdown",
   "metadata": {},
   "source": [
    "### Embarked"
   ]
  },
  {
   "cell_type": "code",
   "execution_count": 21,
   "metadata": {},
   "outputs": [],
   "source": [
    "def processEmbarked(train_data, test_data):\n",
    "    train_data_new, test_data_new = train_data.copy(), test_data.copy()\n",
    "\n",
    "    feature = 'Embarked'\n",
    "    fill_value = train_data_new[feature].mode()[0]\n",
    "    train_data_new[feature] = train_data_new[feature].fillna(value=fill_value)\n",
    "    test_data_new[feature] = test_data_new[feature].fillna(value=fill_value)\n",
    "\n",
    "    train_data_new, test_data_new = makeOneHot('Embarked', train_data_new, test_data_new)\n",
    "\n",
    "    return train_data_new, test_data_new"
   ]
  },
  {
   "cell_type": "code",
   "execution_count": 22,
   "metadata": {},
   "outputs": [],
   "source": [
    "train_data_new, test_data_new = processEmbarked(train_data, test_data)"
   ]
  },
  {
   "cell_type": "code",
   "execution_count": 23,
   "metadata": {},
   "outputs": [],
   "source": [
    "columns_to_drop = ['Age', 'Fare']\n",
    "X_train, Y_train, X_test = PrepareData(columns_to_drop + columns_to_drop, label, train_data_new, test_data_new)"
   ]
  },
  {
   "cell_type": "code",
   "execution_count": 24,
   "metadata": {},
   "outputs": [
    {
     "name": "stdout",
     "output_type": "stream",
     "text": [
      "0.7946268281965978\n"
     ]
    }
   ],
   "source": [
    "model = DecisionTreeClassifier(random_state=0) \n",
    "print(Eval(model, X_train, Y_train))"
   ]
  },
  {
   "cell_type": "markdown",
   "metadata": {},
   "source": [
    "### Title"
   ]
  },
  {
   "cell_type": "code",
   "execution_count": 25,
   "metadata": {},
   "outputs": [],
   "source": [
    "def processTitle(train_data, test_data):\n",
    "    train_data_new, test_data_new = train_data.copy(), test_data.copy()\n",
    "\n",
    "    feature = 'Title'\n",
    "\n",
    "    def process(name):\n",
    "        new_feature = name.str.extract(r' ([A-Za-z]+)\\.', expand=False)\n",
    "        new_feature = new_feature.replace({'Mlle': 'Miss', 'Ms': 'Miss', 'Mme': 'Mrs'})\n",
    "        new_feature = new_feature.replace(['Lady', 'Countess','Capt', 'Col', 'Don', 'Dr', 'Major', 'Rev', 'Sir', 'Jonkheer', 'Dona'], 'Rare')\n",
    "        \n",
    "        return new_feature\n",
    "    \n",
    "    train_data_new[feature] = process(train_data_new['Name'])\n",
    "    test_data_new[feature] = process(test_data_new['Name'])\n",
    "\n",
    "    train_data_new, test_data_new = makeOneHot(feature, train_data_new, test_data_new)\n",
    "\n",
    "    return train_data_new, test_data_new"
   ]
  },
  {
   "cell_type": "code",
   "execution_count": 26,
   "metadata": {},
   "outputs": [],
   "source": [
    "train_data_new, test_data_new = processTitle(train_data, test_data)"
   ]
  },
  {
   "cell_type": "code",
   "execution_count": 27,
   "metadata": {},
   "outputs": [],
   "source": [
    "columns_to_drop = ['Age', 'Fare', 'Embarked']\n",
    "X_train, Y_train, X_test = PrepareData(columns_to_drop, label, train_data_new, test_data_new)"
   ]
  },
  {
   "cell_type": "code",
   "execution_count": 28,
   "metadata": {},
   "outputs": [
    {
     "name": "stdout",
     "output_type": "stream",
     "text": [
      "0.8081036971941498\n"
     ]
    }
   ],
   "source": [
    "model = DecisionTreeClassifier(random_state=0) \n",
    "print(Eval(model, X_train, Y_train))"
   ]
  },
  {
   "cell_type": "markdown",
   "metadata": {},
   "source": [
    "### Family"
   ]
  },
  {
   "cell_type": "code",
   "execution_count": 82,
   "metadata": {},
   "outputs": [],
   "source": [
    "def processFamily(train_data, test_data):\n",
    "    train_data_new, test_data_new = train_data.copy(), test_data.copy()\n",
    "\n",
    "    train_data_new['Family'] = train_data_new['SibSp'] + train_data_new['Parch'] + 1\n",
    "    test_data_new['Family'] = test_data_new['SibSp'] + test_data_new['Parch'] + 1\n",
    "\n",
    "    train_data_new = train_data_new.drop(['SibSp', 'Parch'], axis=1)\n",
    "    test_data_new = test_data_new.drop(['SibSp', 'Parch'], axis=1)\n",
    "\n",
    "    return train_data_new, test_data_new"
   ]
  },
  {
   "cell_type": "code",
   "execution_count": 83,
   "metadata": {},
   "outputs": [],
   "source": [
    "train_data_new, test_data_new = processFamily(train_data, test_data)"
   ]
  },
  {
   "cell_type": "code",
   "execution_count": 84,
   "metadata": {},
   "outputs": [],
   "source": [
    "columns_to_drop = ['Age', 'Fare', 'Embarked']\n",
    "X_train, Y_train, X_test = PrepareData(columns_to_drop, label, train_data_new, test_data_new)"
   ]
  },
  {
   "cell_type": "code",
   "execution_count": 85,
   "metadata": {},
   "outputs": [
    {
     "name": "stdout",
     "output_type": "stream",
     "text": [
      "0.7879166405122089\n"
     ]
    }
   ],
   "source": [
    "model = DecisionTreeClassifier(random_state=0) \n",
    "print(Eval(model, X_train, Y_train))"
   ]
  },
  {
   "cell_type": "markdown",
   "metadata": {},
   "source": [
    "### Alone"
   ]
  },
  {
   "cell_type": "code",
   "execution_count": 86,
   "metadata": {},
   "outputs": [],
   "source": [
    "def processAlone(train_data, test_data):\n",
    "    train_data_new, test_data_new = processFamily(train_data, test_data)\n",
    "\n",
    "    train_data_new['Alone'] = train_data_new['Family'].apply(lambda x: 1 if x == 1 else 0)\n",
    "    test_data_new['Alone'] = test_data_new['Family'].apply(lambda x: 1 if x == 1 else 0)\n",
    "\n",
    "    train_data_new = train_data_new.drop('Family', axis=1)\n",
    "    test_data_new = test_data_new.drop('Family', axis=1)\n",
    "\n",
    "    return train_data_new, test_data_new"
   ]
  },
  {
   "cell_type": "code",
   "execution_count": 87,
   "metadata": {},
   "outputs": [],
   "source": [
    "train_data_new, test_data_new = processAlone(train_data, test_data)"
   ]
  },
  {
   "cell_type": "code",
   "execution_count": 88,
   "metadata": {},
   "outputs": [],
   "source": [
    "columns_to_drop = ['Age', 'Fare', 'Embarked']\n",
    "X_train, Y_train, X_test = PrepareData(columns_to_drop, label, train_data_new, test_data_new)"
   ]
  },
  {
   "cell_type": "code",
   "execution_count": 89,
   "metadata": {},
   "outputs": [
    {
     "name": "stdout",
     "output_type": "stream",
     "text": [
      "0.7912937040989265\n"
     ]
    }
   ],
   "source": [
    "model = DecisionTreeClassifier(random_state=0) \n",
    "print(Eval(model, X_train, Y_train))"
   ]
  },
  {
   "cell_type": "markdown",
   "metadata": {},
   "source": [
    "### FareBinned"
   ]
  },
  {
   "cell_type": "code",
   "execution_count": 37,
   "metadata": {},
   "outputs": [],
   "source": [
    "def processFareBin(train_data, test_data):\n",
    "    train_data_new, test_data_new = train_data.copy(), test_data.copy()\n",
    "\n",
    "    feature = 'Fare'\n",
    "    new_feature = 'FareBinned'\n",
    "\n",
    "    fill_value = train_data[feature].mode()[0]\n",
    "    test_data_new[feature] = test_data_new[feature].fillna(value=fill_value)\n",
    "\n",
    "    train_data_new[new_feature], bins = pd.cut(train_data_new[feature], 5, labels=[0,1,2,3,4], retbins=True)\n",
    "    test_data_new[new_feature] = pd.cut(test_data_new[feature], bins=bins, labels=[0,1,2,3,4])\n",
    "\n",
    "    train_data_new = train_data_new.drop(feature, axis=1)\n",
    "    test_data_new = test_data_new.drop(feature, axis=1)\n",
    "\n",
    "    return train_data_new, test_data_new"
   ]
  },
  {
   "cell_type": "code",
   "execution_count": 38,
   "metadata": {},
   "outputs": [],
   "source": [
    "train_data_new, test_data_new = processFareBin(train_data, test_data)"
   ]
  },
  {
   "cell_type": "code",
   "execution_count": 39,
   "metadata": {},
   "outputs": [],
   "source": [
    "columns_to_drop = ['Age', 'Embarked']\n",
    "X_train, Y_train, X_test = PrepareData(columns_to_drop, label, train_data_new, test_data_new)"
   ]
  },
  {
   "cell_type": "code",
   "execution_count": 40,
   "metadata": {},
   "outputs": [
    {
     "name": "stdout",
     "output_type": "stream",
     "text": [
      "0.7856631724311092\n"
     ]
    }
   ],
   "source": [
    "model = DecisionTreeClassifier(random_state=0) \n",
    "print(Eval(model, X_train, Y_train))"
   ]
  },
  {
   "cell_type": "markdown",
   "metadata": {},
   "source": [
    "### AgeBinned"
   ]
  },
  {
   "cell_type": "code",
   "execution_count": 41,
   "metadata": {},
   "outputs": [],
   "source": [
    "def processAgeBin(train_data, test_data):\n",
    "    train_data_new, test_data_new = train_data.copy(), test_data.copy()\n",
    "\n",
    "    feature = 'Age'\n",
    "    new_feature = 'AgeBinned'\n",
    "\n",
    "    fill_value = train_data[feature].mode()[0]\n",
    "    train_data_new[feature] = train_data_new[feature].fillna(value=fill_value)\n",
    "    test_data_new[feature] = test_data_new[feature].fillna(value=fill_value)\n",
    "\n",
    "    train_data_new[new_feature], bins = pd.cut(train_data_new[feature], 5, labels=[0,1,2,3,4], retbins=True)\n",
    "    test_data_new[new_feature] = pd.cut(test_data_new[feature], bins=bins, labels=[0,1,2,3,4])\n",
    "\n",
    "    train_data_new = train_data_new.drop(feature, axis=1)\n",
    "    test_data_new = test_data_new.drop(feature, axis=1)\n",
    "\n",
    "    return train_data_new, test_data_new"
   ]
  },
  {
   "cell_type": "code",
   "execution_count": 42,
   "metadata": {},
   "outputs": [],
   "source": [
    "train_data_new, test_data_new = processAgeBin(train_data, test_data)"
   ]
  },
  {
   "cell_type": "code",
   "execution_count": 43,
   "metadata": {},
   "outputs": [],
   "source": [
    "columns_to_drop = ['Fare', 'Embarked']\n",
    "X_train, Y_train, X_test = PrepareData(columns_to_drop, label, train_data_new, test_data_new)"
   ]
  },
  {
   "cell_type": "code",
   "execution_count": 44,
   "metadata": {},
   "outputs": [
    {
     "name": "stdout",
     "output_type": "stream",
     "text": [
      "0.7912685958194714\n"
     ]
    }
   ],
   "source": [
    "model = DecisionTreeClassifier(random_state=0) \n",
    "print(Eval(model, X_train, Y_train))"
   ]
  },
  {
   "cell_type": "markdown",
   "metadata": {},
   "source": [
    "### TicketNumber"
   ]
  },
  {
   "cell_type": "code",
   "execution_count": 45,
   "metadata": {},
   "outputs": [],
   "source": [
    "def processTicketNumber(train_data, test_data):\n",
    "    train_data_new, test_data_new = train_data.copy(), test_data.copy()\n",
    "\n",
    "    def get_ticket_number(ticket):\n",
    "        num = ticket.split(' ')[-1]\n",
    "        if num.isdigit():\n",
    "            return int(num)\n",
    "        else:\n",
    "            return -1\n",
    "\n",
    "    train_data_new['TicketNumber'] = train_data_new['Ticket'].apply(get_ticket_number)\n",
    "    test_data_new['TicketNumber'] = test_data_new['Ticket'].apply(get_ticket_number)\n",
    "\n",
    "    return train_data_new, test_data_new"
   ]
  },
  {
   "cell_type": "code",
   "execution_count": 46,
   "metadata": {},
   "outputs": [],
   "source": [
    "train_data_new, test_data_new = processTicketNumber(train_data, test_data)"
   ]
  },
  {
   "cell_type": "code",
   "execution_count": 47,
   "metadata": {},
   "outputs": [],
   "source": [
    "columns_to_drop = ['Age', 'Fare', 'Embarked']\n",
    "X_train, Y_train, X_test = PrepareData(columns_to_drop, label, train_data_new, test_data_new)"
   ]
  },
  {
   "cell_type": "code",
   "execution_count": 48,
   "metadata": {},
   "outputs": [
    {
     "name": "stdout",
     "output_type": "stream",
     "text": [
      "0.7677170296905405\n"
     ]
    }
   ],
   "source": [
    "model = DecisionTreeClassifier(random_state=0) \n",
    "print(Eval(model, X_train, Y_train))"
   ]
  },
  {
   "cell_type": "markdown",
   "metadata": {},
   "source": [
    "## Multivariate"
   ]
  },
  {
   "cell_type": "markdown",
   "metadata": {},
   "source": [
    "### Fare + Age"
   ]
  },
  {
   "cell_type": "code",
   "execution_count": 49,
   "metadata": {},
   "outputs": [],
   "source": [
    "train_data_new, test_data_new = processFare(train_data, test_data)\n",
    "train_data_new, test_data_new = processAge(train_data_new, test_data_new)"
   ]
  },
  {
   "cell_type": "code",
   "execution_count": 50,
   "metadata": {},
   "outputs": [],
   "source": [
    "columns_to_drop = ['Embarked']\n",
    "X_train, Y_train, X_test = PrepareData(columns_to_drop, label, train_data_new, test_data_new)"
   ]
  },
  {
   "cell_type": "code",
   "execution_count": 51,
   "metadata": {},
   "outputs": [
    {
     "name": "stdout",
     "output_type": "stream",
     "text": [
      "0.7755759211600026\n"
     ]
    }
   ],
   "source": [
    "model = DecisionTreeClassifier(random_state=0) \n",
    "print(Eval(model, X_train, Y_train))"
   ]
  },
  {
   "cell_type": "markdown",
   "metadata": {},
   "source": [
    "### Fare + AgeBinned"
   ]
  },
  {
   "cell_type": "code",
   "execution_count": 52,
   "metadata": {},
   "outputs": [],
   "source": [
    "train_data_new, test_data_new = processFare(train_data, test_data)\n",
    "train_data_new, test_data_new = processAgeBin(train_data_new, test_data_new)"
   ]
  },
  {
   "cell_type": "code",
   "execution_count": 53,
   "metadata": {},
   "outputs": [],
   "source": [
    "columns_to_drop = ['Embarked']\n",
    "X_train, Y_train, X_test = PrepareData(columns_to_drop, label, train_data_new, test_data_new)"
   ]
  },
  {
   "cell_type": "code",
   "execution_count": 54,
   "metadata": {},
   "outputs": [
    {
     "name": "stdout",
     "output_type": "stream",
     "text": [
      "0.7867993220764549\n"
     ]
    }
   ],
   "source": [
    "model = DecisionTreeClassifier(random_state=0) \n",
    "print(Eval(model, X_train, Y_train))"
   ]
  },
  {
   "cell_type": "markdown",
   "metadata": {},
   "source": [
    "### FareBinned + Age"
   ]
  },
  {
   "cell_type": "code",
   "execution_count": 55,
   "metadata": {},
   "outputs": [],
   "source": [
    "train_data_new, test_data_new = processFareBin(train_data, test_data)\n",
    "train_data_new, test_data_new = processAge(train_data_new, test_data_new)"
   ]
  },
  {
   "cell_type": "code",
   "execution_count": 56,
   "metadata": {},
   "outputs": [],
   "source": [
    "columns_to_drop = ['Embarked']\n",
    "X_train, Y_train, X_test = PrepareData(columns_to_drop, label, train_data_new, test_data_new)"
   ]
  },
  {
   "cell_type": "code",
   "execution_count": 57,
   "metadata": {},
   "outputs": [
    {
     "name": "stdout",
     "output_type": "stream",
     "text": [
      "0.8181846713953927\n"
     ]
    }
   ],
   "source": [
    "model = DecisionTreeClassifier(random_state=0) \n",
    "print(Eval(model, X_train, Y_train))"
   ]
  },
  {
   "cell_type": "markdown",
   "metadata": {},
   "source": [
    "### FareBinned + AgeBinned"
   ]
  },
  {
   "cell_type": "code",
   "execution_count": 58,
   "metadata": {},
   "outputs": [],
   "source": [
    "train_data_new, test_data_new = processFareBin(train_data, test_data)\n",
    "train_data_new, test_data_new = processAgeBin(train_data_new, test_data_new)"
   ]
  },
  {
   "cell_type": "code",
   "execution_count": 59,
   "metadata": {},
   "outputs": [],
   "source": [
    "columns_to_drop = ['Embarked']\n",
    "X_train, Y_train, X_test = PrepareData(columns_to_drop, label, train_data_new, test_data_new)"
   ]
  },
  {
   "cell_type": "code",
   "execution_count": 60,
   "metadata": {},
   "outputs": [
    {
     "name": "stdout",
     "output_type": "stream",
     "text": [
      "0.7912811499591992\n"
     ]
    }
   ],
   "source": [
    "model = DecisionTreeClassifier(random_state=0) \n",
    "print(Eval(model, X_train, Y_train))"
   ]
  },
  {
   "cell_type": "markdown",
   "metadata": {},
   "source": [
    "### FareBinned + Embarked"
   ]
  },
  {
   "cell_type": "code",
   "execution_count": 64,
   "metadata": {},
   "outputs": [],
   "source": [
    "train_data_new, test_data_new = processFareBin(train_data, test_data)\n",
    "train_data_new, test_data_new = processEmbarked(train_data_new, test_data_new)"
   ]
  },
  {
   "cell_type": "code",
   "execution_count": 65,
   "metadata": {},
   "outputs": [],
   "source": [
    "columns_to_drop = ['Age']\n",
    "X_train, Y_train, X_test = PrepareData(columns_to_drop, label, train_data_new, test_data_new)"
   ]
  },
  {
   "cell_type": "code",
   "execution_count": 66,
   "metadata": {},
   "outputs": [
    {
     "name": "stdout",
     "output_type": "stream",
     "text": [
      "0.8036093151716779\n"
     ]
    }
   ],
   "source": [
    "model = DecisionTreeClassifier(random_state=0)\n",
    "print(Eval(model, X_train, Y_train))"
   ]
  },
  {
   "cell_type": "markdown",
   "metadata": {},
   "source": [
    "### FareBinned + Title"
   ]
  },
  {
   "cell_type": "code",
   "execution_count": 70,
   "metadata": {},
   "outputs": [],
   "source": [
    "train_data_new, test_data_new = processFareBin(train_data, test_data)\n",
    "train_data_new, test_data_new = processTitle(train_data_new, test_data_new)"
   ]
  },
  {
   "cell_type": "code",
   "execution_count": 71,
   "metadata": {},
   "outputs": [],
   "source": [
    "columns_to_drop = ['Age', 'Embarked']\n",
    "X_train, Y_train, X_test = PrepareData(columns_to_drop, label, train_data_new, test_data_new)"
   ]
  },
  {
   "cell_type": "code",
   "execution_count": 72,
   "metadata": {},
   "outputs": [
    {
     "name": "stdout",
     "output_type": "stream",
     "text": [
      "0.8114682066411399\n"
     ]
    }
   ],
   "source": [
    "model = DecisionTreeClassifier(random_state=0) \n",
    "print(Eval(model, X_train, Y_train))"
   ]
  },
  {
   "cell_type": "markdown",
   "metadata": {},
   "source": [
    "### FareBinned + Family"
   ]
  },
  {
   "cell_type": "code",
   "execution_count": 93,
   "metadata": {},
   "outputs": [],
   "source": [
    "train_data_new, test_data_new = processFareBin(train_data, test_data)\n",
    "train_data_new, test_data_new = processFamily(train_data_new, test_data_new)"
   ]
  },
  {
   "cell_type": "code",
   "execution_count": 94,
   "metadata": {},
   "outputs": [],
   "source": [
    "columns_to_drop = ['Age', 'Embarked']\n",
    "X_train, Y_train, X_test = PrepareData(columns_to_drop, label, train_data_new, test_data_new)"
   ]
  },
  {
   "cell_type": "code",
   "execution_count": 95,
   "metadata": {},
   "outputs": [
    {
     "name": "stdout",
     "output_type": "stream",
     "text": [
      "0.7890339589479631\n"
     ]
    }
   ],
   "source": [
    "model = DecisionTreeClassifier(random_state=0) \n",
    "print(Eval(model, X_train, Y_train))"
   ]
  },
  {
   "cell_type": "markdown",
   "metadata": {},
   "source": [
    "### FareBinned + Alone"
   ]
  },
  {
   "cell_type": "code",
   "execution_count": 96,
   "metadata": {},
   "outputs": [],
   "source": [
    "train_data_new, test_data_new = processFareBin(train_data, test_data)\n",
    "train_data_new, test_data_new = processAlone(train_data_new, test_data_new)"
   ]
  },
  {
   "cell_type": "code",
   "execution_count": 97,
   "metadata": {},
   "outputs": [],
   "source": [
    "columns_to_drop = ['Age', 'Embarked']\n",
    "X_train, Y_train, X_test = PrepareData(columns_to_drop, label, train_data_new, test_data_new)"
   ]
  },
  {
   "cell_type": "code",
   "execution_count": 98,
   "metadata": {},
   "outputs": [
    {
     "name": "stdout",
     "output_type": "stream",
     "text": [
      "0.7946519364760529\n"
     ]
    }
   ],
   "source": [
    "model = DecisionTreeClassifier(random_state=0) \n",
    "print(Eval(model, X_train, Y_train))"
   ]
  },
  {
   "cell_type": "markdown",
   "metadata": {},
   "source": [
    "### AgeBinned + Embarked"
   ]
  },
  {
   "cell_type": "code",
   "execution_count": 99,
   "metadata": {},
   "outputs": [],
   "source": [
    "train_data_new, test_data_new = processAgeBin(train_data, test_data)\n",
    "train_data_new, test_data_new = processEmbarked(train_data_new, test_data_new)"
   ]
  },
  {
   "cell_type": "code",
   "execution_count": 100,
   "metadata": {},
   "outputs": [],
   "source": [
    "columns_to_drop = ['Fare']\n",
    "X_train, Y_train, X_test = PrepareData(columns_to_drop, label, train_data_new, test_data_new)"
   ]
  },
  {
   "cell_type": "code",
   "execution_count": 101,
   "metadata": {},
   "outputs": [
    {
     "name": "stdout",
     "output_type": "stream",
     "text": [
      "0.7912748728893352\n"
     ]
    }
   ],
   "source": [
    "model = DecisionTreeClassifier(random_state=0) \n",
    "print(Eval(model, X_train, Y_train))"
   ]
  },
  {
   "cell_type": "markdown",
   "metadata": {},
   "source": [
    "### AgeBinned + Title"
   ]
  },
  {
   "cell_type": "code",
   "execution_count": 102,
   "metadata": {},
   "outputs": [],
   "source": [
    "train_data_new, test_data_new = processAgeBin(train_data, test_data)\n",
    "train_data_new, test_data_new = processTitle(train_data_new, test_data_new)"
   ]
  },
  {
   "cell_type": "code",
   "execution_count": 103,
   "metadata": {},
   "outputs": [],
   "source": [
    "columns_to_drop = ['Fare', 'Embarked']\n",
    "X_train, Y_train, X_test = PrepareData(columns_to_drop, label, train_data_new, test_data_new)"
   ]
  },
  {
   "cell_type": "code",
   "execution_count": 104,
   "metadata": {},
   "outputs": [
    {
     "name": "stdout",
     "output_type": "stream",
     "text": [
      "0.7901889398028998\n"
     ]
    }
   ],
   "source": [
    "model = DecisionTreeClassifier(random_state=0) \n",
    "print(Eval(model, X_train, Y_train))"
   ]
  },
  {
   "cell_type": "markdown",
   "metadata": {},
   "source": [
    "### AgeBinned + Family"
   ]
  },
  {
   "cell_type": "code",
   "execution_count": 105,
   "metadata": {},
   "outputs": [],
   "source": [
    "train_data_new, test_data_new = processAgeBin(train_data, test_data)\n",
    "train_data_new, test_data_new = processFamily(train_data_new, test_data_new)"
   ]
  },
  {
   "cell_type": "code",
   "execution_count": 106,
   "metadata": {},
   "outputs": [],
   "source": [
    "columns_to_drop = ['Fare', 'Embarked']\n",
    "X_train, Y_train, X_test = PrepareData(columns_to_drop, label, train_data_new, test_data_new)"
   ]
  },
  {
   "cell_type": "code",
   "execution_count": 107,
   "metadata": {},
   "outputs": [
    {
     "name": "stdout",
     "output_type": "stream",
     "text": [
      "0.8058565061829139\n"
     ]
    }
   ],
   "source": [
    "model = DecisionTreeClassifier(random_state=0) \n",
    "print(Eval(model, X_train, Y_train))"
   ]
  },
  {
   "cell_type": "markdown",
   "metadata": {},
   "source": [
    "### AgeBinned + Alone"
   ]
  },
  {
   "cell_type": "code",
   "execution_count": 108,
   "metadata": {},
   "outputs": [],
   "source": [
    "train_data_new, test_data_new = processAgeBin(train_data, test_data)\n",
    "train_data_new, test_data_new = processAlone(train_data_new, test_data_new)"
   ]
  },
  {
   "cell_type": "code",
   "execution_count": 109,
   "metadata": {},
   "outputs": [],
   "source": [
    "columns_to_drop = ['Fare', 'Embarked']\n",
    "X_train, Y_train, X_test = PrepareData(columns_to_drop, label, train_data_new, test_data_new)"
   ]
  },
  {
   "cell_type": "code",
   "execution_count": 110,
   "metadata": {},
   "outputs": [
    {
     "name": "stdout",
     "output_type": "stream",
     "text": [
      "0.8080911430544221\n"
     ]
    }
   ],
   "source": [
    "model = DecisionTreeClassifier(random_state=0) \n",
    "print(Eval(model, X_train, Y_train))"
   ]
  }
 ],
 "metadata": {
  "kernelspec": {
   "display_name": "ml2",
   "language": "python",
   "name": "python3"
  },
  "language_info": {
   "codemirror_mode": {
    "name": "ipython",
    "version": 3
   },
   "file_extension": ".py",
   "mimetype": "text/x-python",
   "name": "python",
   "nbconvert_exporter": "python",
   "pygments_lexer": "ipython3",
   "version": "3.9.19"
  }
 },
 "nbformat": 4,
 "nbformat_minor": 2
}
